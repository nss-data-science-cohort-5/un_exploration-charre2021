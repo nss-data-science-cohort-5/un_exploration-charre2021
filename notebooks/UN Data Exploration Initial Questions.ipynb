{
 "cells": [
  {
   "cell_type": "code",
   "execution_count": null,
   "id": "e63c664a",
   "metadata": {},
   "outputs": [],
   "source": [
    "#Questions 3 and 4\n",
    "\n",
    "import pandas as pd\n",
    "import numpy as np\n",
    "import matplotlib.pyplot as plt\n",
    "import seaborn as sns\n",
    "from fuzzywuzzy import fuzz\n",
    "import plotly.express as px\n",
    "import warnings; warnings.simplefilter('ignore')"
   ]
  },
  {
   "cell_type": "code",
   "execution_count": null,
   "id": "e7b0cfb4",
   "metadata": {},
   "outputs": [],
   "source": [
    "# Question 5(1)\n",
    "\n",
    "gdp_df = pd.read_csv('../data/gdp_per_capita.csv', skipfooter = 2, engine = 'python')\n",
    "gdp_df.head(10)"
   ]
  },
  {
   "cell_type": "code",
   "execution_count": null,
   "id": "241217a7",
   "metadata": {},
   "outputs": [],
   "source": [
    "# Question 5(2)\n",
    "\n",
    "gdp_df.tail(5)"
   ]
  },
  {
   "cell_type": "code",
   "execution_count": null,
   "id": "78a892a6",
   "metadata": {},
   "outputs": [],
   "source": [
    "# Question 6\n",
    "\n",
    "gdp_df = gdp_df.drop(columns = \"Value Footnotes\")\n",
    "gdp_df.columns = ['Country', 'Year', 'GDP_Per_Capita']"
   ]
  },
  {
   "cell_type": "code",
   "execution_count": null,
   "id": "30a60d88",
   "metadata": {},
   "outputs": [],
   "source": [
    "# Question 7\n",
    "\n",
    "gdp_df.info()"
   ]
  },
  {
   "cell_type": "code",
   "execution_count": null,
   "id": "6d26fc86",
   "metadata": {},
   "outputs": [],
   "source": [
    "# Question 8\n",
    "\n",
    "gdp_df['Year'].value_counts().sort_index()"
   ]
  },
  {
   "cell_type": "markdown",
   "id": "c899281b",
   "metadata": {},
   "source": [
    "Only years since 1990. Greater numbers of more recent years--better reporting?"
   ]
  },
  {
   "cell_type": "code",
   "execution_count": null,
   "id": "b530194c",
   "metadata": {},
   "outputs": [],
   "source": [
    "# Question 9(1)\n",
    "\n",
    "len(pd.unique(gdp_df['Country']))"
   ]
  },
  {
   "cell_type": "code",
   "execution_count": null,
   "id": "beac276e",
   "metadata": {},
   "outputs": [],
   "source": [
    "# Question 9(2)\n",
    "\n",
    "gdp_df['Country'].value_counts()"
   ]
  },
  {
   "cell_type": "markdown",
   "id": "a0f49e01",
   "metadata": {},
   "source": [
    "The least represented countries have very small populations and thus fewer workable samples. Those countries are also relatively remote."
   ]
  },
  {
   "cell_type": "code",
   "execution_count": null,
   "id": "fe95d8d6",
   "metadata": {},
   "outputs": [],
   "source": [
    "# Question 10\n",
    "\n",
    "gdp_2014 = gdp_df[gdp_df['Year'] == 2014]\n",
    "gdp_2014"
   ]
  },
  {
   "cell_type": "code",
   "execution_count": null,
   "id": "a3bcc0a4",
   "metadata": {},
   "outputs": [],
   "source": [
    "# Question 11\n",
    "\n",
    "gdp_2014.describe()"
   ]
  },
  {
   "cell_type": "code",
   "execution_count": null,
   "id": "708c8f0b",
   "metadata": {},
   "outputs": [],
   "source": [
    "# Question 12\n",
    "\n",
    "plt.hist(gdp_df['GDP_Per_Capita'], bins = 20);"
   ]
  },
  {
   "cell_type": "markdown",
   "id": "0485c9c7",
   "metadata": {},
   "source": [
    "Extremely right-skewed. The vast majority of the countries represented are poor, with outlier (\"developed\") countries skewing the data. The median is probably more representative than the mean with respect to typical country GDP per capita."
   ]
  },
  {
   "cell_type": "code",
   "execution_count": null,
   "id": "2e5b08f3",
   "metadata": {},
   "outputs": [],
   "source": [
    "# Question 13(1)\n",
    "\n",
    "gdp_2014.nlargest(5, columns = 'GDP_Per_Capita')"
   ]
  },
  {
   "cell_type": "code",
   "execution_count": null,
   "id": "6f1215cf",
   "metadata": {},
   "outputs": [],
   "source": [
    "# Question 13(2)\n",
    "\n",
    "gdp_2014.nsmallest(5, columns = 'GDP_Per_Capita')"
   ]
  },
  {
   "cell_type": "code",
   "execution_count": null,
   "id": "086b4bd7",
   "metadata": {},
   "outputs": [],
   "source": [
    "# Question 14\n",
    "\n",
    "gdp_pivoted = pd.pivot_table(data = gdp_df.loc[(gdp_df['Year'].isin([1990, 2017]))], \n",
    "                             index = ['Country'], \n",
    "                             columns = ['Year']).dropna()"
   ]
  },
  {
   "cell_type": "code",
   "execution_count": null,
   "id": "db0c9e3c",
   "metadata": {},
   "outputs": [],
   "source": [
    "# Question 15\n",
    "\n",
    "gdp_pivoted['Percent_Change'] = 100*(gdp_pivoted[('GDP_Per_Capita', 2017)] - gdp_pivoted[('GDP_Per_Capita', 1990)])/ gdp_pivoted[('GDP_Per_Capita', 1990)]"
   ]
  },
  {
   "cell_type": "code",
   "execution_count": null,
   "id": "3856d0d1",
   "metadata": {},
   "outputs": [],
   "source": [
    "# Question 16\n",
    "\n",
    "gdp_pivoted.loc[gdp_pivoted['Percent_Change'] < 0].value_counts().sum()"
   ]
  },
  {
   "cell_type": "code",
   "execution_count": null,
   "id": "f010d22f",
   "metadata": {},
   "outputs": [],
   "source": [
    "# Question 17 (includes bonus)\n",
    "\n",
    "gdp_pivoted_sorted = gdp_pivoted.sort_values('Percent_Change', ascending = False)\n",
    "top_change = str(gdp_pivoted_sorted['Percent_Change'].index[0])\n",
    "second_top_change = str(gdp_pivoted_sorted['Percent_Change'].index[1])\n",
    "top_change_values = gdp_df.loc[(gdp_df['Country'] == top_change) & (gdp_df['Year'] < 2018), ['Year','GDP_Per_Capita']]\n",
    "second_top_change_values = gdp_df.loc[(gdp_df['Country'] == second_top_change) & (gdp_df['Year'] < 2018), ['Year','GDP_Per_Capita']]\n",
    "plt.plot(top_change_values['Year'], top_change_values['GDP_Per_Capita'], color = 'red')\n",
    "plt.plot(second_top_change_values['Year'], second_top_change_values['GDP_Per_Capita'], color = 'blue')\n",
    "plt.legend(['Equatorial Guinea','China']);"
   ]
  },
  {
   "cell_type": "markdown",
   "id": "bf6c9c38",
   "metadata": {},
   "source": [
    "Equatorial Guinea's GDP per capita rose sharply starting around 1995 but has started declining sharply since The Great Recession (~2007). While China's GDP per capita is lower overall, its growth has been steadier and more consistent over time."
   ]
  },
  {
   "cell_type": "code",
   "execution_count": null,
   "id": "284a28e6",
   "metadata": {},
   "outputs": [],
   "source": [
    "# Question 18\n",
    "\n",
    "continents = pd.read_csv('../data/continents.csv')"
   ]
  },
  {
   "cell_type": "code",
   "execution_count": null,
   "id": "f4968c0c",
   "metadata": {},
   "outputs": [],
   "source": [
    "# Question 19\n",
    "\n",
    "gdp_df = pd.merge(gdp_df, continents)"
   ]
  },
  {
   "cell_type": "code",
   "execution_count": null,
   "id": "13740f02",
   "metadata": {},
   "outputs": [],
   "source": [
    "# Question 20\n",
    "\n",
    "no_dupe_countries = gdp_df.drop_duplicates('Country')\n",
    "no_dupe_countries.groupby('Continent')['Country'].count().plot(kind = 'bar', colormap = \"Accent\");"
   ]
  },
  {
   "cell_type": "code",
   "execution_count": null,
   "id": "cd575362",
   "metadata": {},
   "outputs": [],
   "source": [
    "# Question 21\n",
    "\n",
    "sns.boxplot(x = gdp_df['Continent'], y = gdp_df['GDP_Per_Capita'].loc[gdp_df['Year'] == 2014], palette = 'Pastel2')\n",
    "fig = plt.gcf()\n",
    "fig.set_size_inches(15, 12)"
   ]
  },
  {
   "cell_type": "markdown",
   "id": "00f11da5",
   "metadata": {},
   "source": [
    "The 2014 GDPs per capita for countries in Europe were generally the highest among the continents (highest median and IQR). Those GDPs per capita were also normally distributed. The 2014 GDPs per capita for countries in Asia and North America had the greatest amount of variability, with a number of outliers on the high end. The 2014 GDPs per capita for countries in Africa were the lowest (lowest median and IQR) and had the least amount of variability."
   ]
  },
  {
   "cell_type": "code",
   "execution_count": null,
   "id": "907ba4a3",
   "metadata": {},
   "outputs": [],
   "source": [
    "# Question 22\n",
    "\n",
    "internet_df = pd.read_csv('../data/internet_use.csv', on_bad_lines= 'skip', skipfooter = 181, engine = 'python')\n",
    "internet_df"
   ]
  },
  {
   "cell_type": "code",
   "execution_count": null,
   "id": "f43a8f1c",
   "metadata": {},
   "outputs": [],
   "source": [
    "# Question 23\n",
    "\n",
    "internet_df = internet_df.drop(columns = \"Value Footnotes\")\n",
    "internet_df.columns = ['Country', 'Year', 'Internet_Use_Pct']"
   ]
  },
  {
   "cell_type": "code",
   "execution_count": null,
   "id": "77f3fd8f",
   "metadata": {},
   "outputs": [],
   "source": [
    "# Question 24\n",
    "\n",
    "internet_df['Internet_Use_Pct'].astype(float)\n",
    "internet_df.info()"
   ]
  },
  {
   "cell_type": "code",
   "execution_count": null,
   "id": "3d170db3",
   "metadata": {},
   "outputs": [],
   "source": [
    "# Question 25(1)\n",
    "\n",
    "used_years = internet_df.loc[internet_df['Internet_Use_Pct'] != 0].sort_values('Year').reset_index(drop = True)\n",
    "used_years['Year'].iloc[0]"
   ]
  },
  {
   "cell_type": "code",
   "execution_count": null,
   "id": "62d23f02",
   "metadata": {},
   "outputs": [],
   "source": [
    "# Question 25(2)\n",
    "\n",
    "x = used_years['Year']\n",
    "y = used_years['Internet_Use_Pct']\n",
    "sns.stripplot(x = x, y = y)\n",
    "fig = plt.gcf()\n",
    "fig.set_size_inches(20, 6)"
   ]
  },
  {
   "cell_type": "code",
   "execution_count": null,
   "id": "a73d759d",
   "metadata": {},
   "outputs": [],
   "source": [
    "# Questions 26 and 27 (bonus included)\n",
    "\n",
    "# Clean-up function definition\n",
    "\n",
    "def Country_Swap(target, acquirer):\n",
    "    \"\"\"Makes initial replacements of certain terms for eventual fuzzy matching and then fuzzy matches country names to improve dataframe merge results.\"\"\"\n",
    "    Swap_Out = ['Korea (Rep. of)', 'Democratic', 'Republic', 'Czechia', 'Slovakia', 'West Bank and Gaza', 'Kyrgyzstan', 'T.F.Y.R. Macedonia', 'Brunei Darussalam', 'Syrian Arab Rep.']\n",
    "    Swap_In = ['Korea', 'Dem.', 'Rep.', 'Czech Rep.', 'Slovak Rep.', 'Palestine', 'Kyrgyz Rep.', 'North Macedonia', 'Brunei', 'Syria']\n",
    "    for i in Swap_Out:\n",
    "        acquirer['Country'] = acquirer['Country'].str.replace(i, Swap_In[Swap_Out.index(i)])\n",
    "        target['Country'] = target['Country'].str.replace(i, Swap_In[Swap_Out.index(i)])\n",
    "        \n",
    "    banned_list = ['Australia', 'Austria', 'Iceland', 'Ireland', 'Congo', 'China']\n",
    "    target_list = list(target['Country'].unique())\n",
    "    acquirer_list = list(acquirer['Country'].unique())\n",
    "    \n",
    "    for i in target_list:\n",
    "        for j in acquirer_list:\n",
    "            if i not in acquirer_list:\n",
    "                if (fuzz.ratio(i,j) >= 80) and (i not in banned_list) and (j not in banned_list):\n",
    "                    target['Country'] = target['Country'].replace(to_replace = i, value = j)\n",
    "                elif (fuzz.partial_ratio(i,j) >= 90) and (i not in banned_list) and (j not in banned_list):\n",
    "                    target['Country'] = target['Country'].replace(to_replace = i, value = j)\n",
    "                elif (fuzz.token_set_ratio(i,j) >= 90) and (i not in banned_list) and (j not in banned_list):\n",
    "                    target['Country'] = target['Country'].replace(to_replace = i, value = j)\n",
    "    return target, acquirer"
   ]
  },
  {
   "cell_type": "code",
   "execution_count": null,
   "id": "bd3255a3",
   "metadata": {
    "scrolled": false
   },
   "outputs": [],
   "source": [
    "# Performing the clean-up and merging\n",
    "\n",
    "internet_df, gdp_df = Country_Swap(internet_df, gdp_df)\n",
    "gdp_and_internet_use = pd.merge(gdp_df, internet_df, how = 'inner')"
   ]
  },
  {
   "cell_type": "code",
   "execution_count": null,
   "id": "99039507",
   "metadata": {},
   "outputs": [],
   "source": [
    "# Question 28\n",
    "\n",
    "gdp_and_internet_use_2014 = gdp_and_internet_use.loc[gdp_and_internet_use['Year'].isin([2014])]\n",
    "gdp_and_internet_use_2014['Country'].loc[gdp_and_internet_use_2014['Internet_Use_Pct'] > 90].count()"
   ]
  },
  {
   "cell_type": "code",
   "execution_count": null,
   "id": "173d5f5d",
   "metadata": {},
   "outputs": [],
   "source": [
    "# Question 29(1)\n",
    "\n",
    "criteria_one = gdp_and_internet_use_2014['GDP_Per_Capita'].nlargest(3).index\n",
    "three_largest = list(gdp_and_internet_use_2014['Country'].loc[criteria_one])\n",
    "three_largest"
   ]
  },
  {
   "cell_type": "code",
   "execution_count": null,
   "id": "b9429329",
   "metadata": {
    "scrolled": true
   },
   "outputs": [],
   "source": [
    "# Question 29(2)\n",
    "\n",
    "criteria_two = gdp_and_internet_use['Country'].isin(three_largest)\n",
    "slimmed_df_three_largest = gdp_and_internet_use[['Country', 'Year', 'Internet_Use_Pct']].loc[criteria_two]\n",
    "\n",
    "graphs = sns.FacetGrid(slimmed_df_three_largest, col = 'Country')\n",
    "graphs.map(sns.regplot, \"Year\", \"Internet_Use_Pct\")\n",
    "graphs.set(ylim=(-5, 105))\n",
    "fig = plt.gcf()\n",
    "fig.set_size_inches(20, 6)"
   ]
  },
  {
   "cell_type": "markdown",
   "id": "1e38427b",
   "metadata": {},
   "source": [
    "There is no data for Qatar before 2000: it's unclear whether that indicates that the population in Qatar simply didn't have access to the internet or just a limitation on the data. Otherwise, the internet use percentage has increased about the same amount for each country--quickly approaching 100%."
   ]
  },
  {
   "cell_type": "code",
   "execution_count": null,
   "id": "5f66407a",
   "metadata": {
    "scrolled": true
   },
   "outputs": [],
   "source": [
    "# Question 30\n",
    "\n",
    "sns.scatterplot(x = gdp_and_internet_use_2014['GDP_Per_Capita'], \n",
    "                y = gdp_and_internet_use_2014['Internet_Use_Pct'], \n",
    "                hue = gdp_and_internet_use_2014['Continent']);"
   ]
  },
  {
   "cell_type": "markdown",
   "id": "4c2eea25",
   "metadata": {},
   "source": [
    "Internet use percentage quickly approaches 100% as GDP per capita for a country increases."
   ]
  },
  {
   "cell_type": "code",
   "execution_count": null,
   "id": "7f7f7abe",
   "metadata": {},
   "outputs": [],
   "source": [
    "# Question 31\n",
    "\n",
    "np.corrcoef(gdp_and_internet_use_2014['GDP_Per_Capita'], gdp_and_internet_use_2014['Internet_Use_Pct'])[0][1]"
   ]
  },
  {
   "cell_type": "markdown",
   "id": "b4ad2ef5",
   "metadata": {},
   "source": [
    "Increase in GDP per capita of a country are strongly and positively correlated with an increase in internet use percentage of that country's population."
   ]
  },
  {
   "cell_type": "code",
   "execution_count": null,
   "id": "22ceeef8",
   "metadata": {},
   "outputs": [],
   "source": [
    "# Question 32\n",
    "\n",
    "gdp_and_internet_use_2014['GDP_Per_Capita_Log'] = np.log(gdp_and_internet_use_2014['GDP_Per_Capita'])\n",
    "np.corrcoef(gdp_and_internet_use_2014['GDP_Per_Capita_Log'], gdp_and_internet_use_2014['Internet_Use_Pct'])[0][1]"
   ]
  },
  {
   "cell_type": "markdown",
   "id": "84cb349a",
   "metadata": {},
   "source": [
    "The correlation is even stronger than what was shown previously (i.e., without log)."
   ]
  },
  {
   "cell_type": "code",
   "execution_count": null,
   "id": "b64bf3f0",
   "metadata": {},
   "outputs": [],
   "source": [
    "# Question 33\n",
    "\n",
    "gaiu_us_only = gdp_and_internet_use.set_index('Country').filter(like = 'United States', axis = 0).sort_values('Year')\n",
    "print(gaiu_us_only)\n",
    "np.corrcoef(gaiu_us_only['GDP_Per_Capita'],gaiu_us_only['Internet_Use_Pct'])[0][1]"
   ]
  },
  {
   "cell_type": "markdown",
   "id": "55788d33",
   "metadata": {},
   "source": [
    "No, as changes to GDP per capita in the U.S. during this time have been marginal (likely due to inflation), and increase in internet usage is more likely due to its increased availability over time (more buildout of networks, e.g.)."
   ]
  },
  {
   "cell_type": "code",
   "execution_count": null,
   "id": "da37b1f8",
   "metadata": {},
   "outputs": [],
   "source": [
    "# Writing csv files to data folder.\n",
    "\n",
    "gdp_df.to_csv('../data/gdp_df_to_be_imported_and_merged.csv', index = False)\n",
    "gdp_and_internet_use.to_csv('../data/gdp_and_internet_use_to_be_imported_and_merged.csv', index = False)"
   ]
  }
 ],
 "metadata": {
  "kernelspec": {
   "display_name": "Python 3 (ipykernel)",
   "language": "python",
   "name": "python3"
  },
  "language_info": {
   "codemirror_mode": {
    "name": "ipython",
    "version": 3
   },
   "file_extension": ".py",
   "mimetype": "text/x-python",
   "name": "python",
   "nbconvert_exporter": "python",
   "pygments_lexer": "ipython3",
   "version": "3.8.11"
  }
 },
 "nbformat": 4,
 "nbformat_minor": 5
}
