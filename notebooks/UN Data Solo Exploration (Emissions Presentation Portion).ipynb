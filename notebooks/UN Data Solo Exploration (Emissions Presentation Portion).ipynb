{
 "cells": [
  {
   "cell_type": "code",
   "execution_count": null,
   "id": "570e3454",
   "metadata": {},
   "outputs": [],
   "source": [
    "import pandas as pd\n",
    "import numpy as np\n",
    "import matplotlib.pyplot as plt\n",
    "import seaborn as sns\n",
    "from ipywidgets import interact\n",
    "import plotly.express as px\n",
    "import warnings; warnings.simplefilter('ignore')"
   ]
  },
  {
   "cell_type": "code",
   "execution_count": null,
   "id": "000dc46f",
   "metadata": {
    "scrolled": true
   },
   "outputs": [],
   "source": [
    "# Reading in emissions dataframes and then describing basic statistics.\n",
    "\n",
    "gaiu_emissions = pd.read_csv('../data/gaiu_emissions_to_be_imported.csv')\n",
    "gaiu_emissions_1990_2014 = pd.read_csv('../data/gaiu_emissions_1990_2014_to_be_imported.csv')\n",
    "gaiu_emissions.describe(exclude = ['object','int64'])"
   ]
  },
  {
   "cell_type": "code",
   "execution_count": null,
   "id": "c4c04144",
   "metadata": {
    "scrolled": true
   },
   "outputs": [],
   "source": [
    "gaiu_emissions[gaiu_emissions['Year'].isin([2014])].describe(exclude = ['object','int64'])"
   ]
  },
  {
   "cell_type": "code",
   "execution_count": null,
   "id": "ee8982b6",
   "metadata": {
    "scrolled": true
   },
   "outputs": [],
   "source": [
    "gaiu_emissions[gaiu_emissions['Year'].isin([1990])].describe(exclude = ['object','int64'])"
   ]
  },
  {
   "cell_type": "code",
   "execution_count": null,
   "id": "ea2edac6",
   "metadata": {},
   "outputs": [],
   "source": [
    "# Converting relevant variables to integers for ease of display and then showing a dataframe with a carbon dioxide slider.\n",
    "\n",
    "relevant_variables = ['GDP Per Capita', '% Internet Use', 'CO2 (kts) Emitted', 'CO2 (kts) Emitted Per 1000']\n",
    "gaiu_emissions_int = gaiu_emissions\n",
    "for i in relevant_variables: \n",
    "    gaiu_emissions_int[i] = gaiu_emissions_int[i].astype(int)\n",
    "\n",
    "@interact\n",
    "def show_countries_with_this_many_emissions(column = 'CO2 (kts) Emitted', x = 1000000):\n",
    "    return gaiu_emissions_int.loc[(gaiu_emissions_int[column] > x) & \n",
    "                              (gaiu_emissions[\"GDP Per Capita\"] > np.median(gaiu_emissions[\"GDP Per Capita\"]))]"
   ]
  },
  {
   "cell_type": "code",
   "execution_count": null,
   "id": "a0005d23",
   "metadata": {},
   "outputs": [],
   "source": [
    "# FacetGrid to compare emissions, GDP per capita and % internet use between 1990 and 2014.\n",
    "\n",
    "graph = sns.FacetGrid(gaiu_emissions_1990_2014, col = \"Year\", size = 5)\n",
    "\n",
    "graph.map(sns.kdeplot, 'GDP Per Capita', shade = True, alpha = 0.1, color = \"blue\")\n",
    "graph.map(sns.kdeplot, 'CO2 (kts) Emitted', shade = True, alpha = 0.1, color = \"red\")\n",
    "graph.map(sns.kdeplot, '% Internet Use', shade = True, alpha = 0.1, color = \"green\")\n",
    "plt.legend(['GDP Per Capita', '% Internet Use', 'CO2 (kts) Emitted'], bbox_to_anchor = [1, 1], loc = 'upper left');"
   ]
  },
  {
   "cell_type": "code",
   "execution_count": null,
   "id": "71b3013b",
   "metadata": {},
   "outputs": [],
   "source": [
    "# Scatterplots of each relevant variable over time with a dropdown.\n",
    "\n",
    "@interact(y = relevant_variables)\n",
    "def make_scatter(y):\n",
    "    fig, ax = plt.subplots(figsize=(12, 10))\n",
    "    sns.scatterplot(x = 'Year', y = y, data = gaiu_emissions, hue = 'Country', palette = 'gist_rainbow')\n",
    "    plt.legend(bbox_to_anchor = (1.05, 1))\n",
    "    plt.show()"
   ]
  },
  {
   "cell_type": "code",
   "execution_count": null,
   "id": "f089787d",
   "metadata": {},
   "outputs": [],
   "source": [
    "# Sunburst graph based on total emissions.\n",
    "\n",
    "sunburst_data = gaiu_emissions.loc[gaiu_emissions['Year'].isin([2014])]\n",
    "fig = px.sunburst(sunburst_data, \n",
    "                  path = ['Continent', 'Country'], \n",
    "                  values = 'CO2 (kts) Emitted', \n",
    "                  color = 'GDP Per Capita', \n",
    "                  color_continuous_scale = 'earth',\n",
    "                  color_continuous_midpoint = np.median(sunburst_data['GDP Per Capita']))\n",
    "fig.show()"
   ]
  },
  {
   "cell_type": "code",
   "execution_count": null,
   "id": "44f86251",
   "metadata": {},
   "outputs": [],
   "source": [
    "# Sunburst graph based on total emissions per 1,000 people. Very different.\n",
    "\n",
    "sunburst_data = gaiu_emissions.loc[gaiu_emissions['Year'].isin([2014])]\n",
    "fig = px.sunburst(sunburst_data, \n",
    "                  path = ['Continent', 'Country'], \n",
    "                  values = 'CO2 (kts) Emitted Per 1000', \n",
    "                  color = 'GDP Per Capita', \n",
    "                  color_continuous_scale = 'sunset',\n",
    "                  color_continuous_midpoint = np.median(sunburst_data['GDP Per Capita']))\n",
    "fig.show()"
   ]
  },
  {
   "cell_type": "code",
   "execution_count": null,
   "id": "62a15875",
   "metadata": {},
   "outputs": [],
   "source": [
    "# Simple boxplot comparing 1990 and 2014 emissions per 1,000 people. \n",
    "\n",
    "sns.boxplot(x = \"Year\", y = \"CO2 (kts) Emitted Per 1000\", data = gaiu_emissions_1990_2014);"
   ]
  }
 ],
 "metadata": {
  "kernelspec": {
   "display_name": "Python 3 (ipykernel)",
   "language": "python",
   "name": "python3"
  },
  "language_info": {
   "codemirror_mode": {
    "name": "ipython",
    "version": 3
   },
   "file_extension": ".py",
   "mimetype": "text/x-python",
   "name": "python",
   "nbconvert_exporter": "python",
   "pygments_lexer": "ipython3",
   "version": "3.8.11"
  }
 },
 "nbformat": 4,
 "nbformat_minor": 5
}
