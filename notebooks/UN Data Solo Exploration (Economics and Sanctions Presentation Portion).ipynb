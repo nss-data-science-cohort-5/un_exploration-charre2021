{
 "cells": [
  {
   "cell_type": "code",
   "execution_count": null,
   "id": "0b73bbc9",
   "metadata": {
    "scrolled": true
   },
   "outputs": [],
   "source": [
    "import pandas as pd\n",
    "import numpy as np\n",
    "import plotly.express as px\n",
    "import plotly.figure_factory as ff\n",
    "import seaborn as sns\n",
    "from ipywidgets import interact\n",
    "import matplotlib.pyplot as plt\n",
    "import plotly.graph_objects as go\n",
    "import warnings; warnings.simplefilter('ignore')"
   ]
  },
  {
   "cell_type": "code",
   "execution_count": null,
   "id": "b070ddb0",
   "metadata": {
    "scrolled": true
   },
   "outputs": [],
   "source": [
    "fully_merged = pd.read_csv('../data/fully_merged_to_be_imported.csv')\n",
    "fully_merged.describe(exclude = ['object', 'int64', 'bool'])"
   ]
  },
  {
   "cell_type": "code",
   "execution_count": null,
   "id": "2b5c08b3",
   "metadata": {},
   "outputs": [],
   "source": [
    "sample_years = fully_merged.loc[fully_merged['Year'].isin([2018, 2010, 2000])]\n",
    "\n",
    "fig = px.histogram(sample_years, \n",
    "                   x = \"% Population Living on <$5.50/Day\", \n",
    "                   color = 'Continent', \n",
    "                   barmode = 'relative', \n",
    "                   nbins = 20)\n",
    "fig.show()"
   ]
  },
  {
   "cell_type": "code",
   "execution_count": null,
   "id": "fae81674",
   "metadata": {},
   "outputs": [],
   "source": [
    "fig = px.histogram(sample_years, \n",
    "                   x = \"% Population Living on <$1.90/Day\",\n",
    "                   color = 'Year',\n",
    "                   color_discrete_sequence = px.colors.qualitative.Dark2,\n",
    "                   marginal = 'box')\n",
    "fig.show()"
   ]
  },
  {
   "cell_type": "code",
   "execution_count": null,
   "id": "81d879f7",
   "metadata": {
    "scrolled": false
   },
   "outputs": [],
   "source": [
    "fig = px.histogram(fully_merged, x = \"% Income Held by Top 10%\", pattern_shape = \"Continent\")\n",
    "fig.show()"
   ]
  },
  {
   "cell_type": "code",
   "execution_count": null,
   "id": "1cd9645f",
   "metadata": {
    "scrolled": false
   },
   "outputs": [],
   "source": [
    "fig = px.scatter(fully_merged, \n",
    "                 x = \"% Income Held by Top 10%\", \n",
    "                 y = \"% Population Living on <$1.90/Day\", \n",
    "                 color = \"Continent\",\n",
    "                 size= \"GDP_Per_Capita\", \n",
    "                 hover_data = [\"Country\", \"Year\"])\n",
    "fig.show()"
   ]
  },
  {
   "cell_type": "code",
   "execution_count": null,
   "id": "89a1402f",
   "metadata": {
    "scrolled": false
   },
   "outputs": [],
   "source": [
    "fig = px.scatter(fully_merged, \n",
    "                 x = \"% Income Held by Top 10%\", \n",
    "                 y = \"% Population Living on <$5.50/Day\", \n",
    "                 color = \"Continent\",\n",
    "                 size= \"GDP_Per_Capita\", \n",
    "                 hover_data = [\"Country\", \"Year\"])\n",
    "fig.show()"
   ]
  },
  {
   "cell_type": "markdown",
   "id": "a9172755",
   "metadata": {},
   "source": [
    "Deep poverty is less correlated with income inequality, but marginally less deep poverty is suspect in this regard--particularly for countries in North America, South America and Africa. This conclusion is less true for countries in Europe and Asia. The foregoing suggests that income distribution among percentiles is to some extent, a zero-sum game."
   ]
  },
  {
   "cell_type": "code",
   "execution_count": null,
   "id": "877268b8",
   "metadata": {
    "scrolled": false
   },
   "outputs": [],
   "source": [
    "fig = px.scatter(fully_merged, \n",
    "                 x = \"% Income Held by Top 10%\", \n",
    "                 y = \"GDP_Per_Capita\", \n",
    "                 hover_data = [\"Country\", \"Year\"], \n",
    "                 trendline = \"ols\")\n",
    "fig.show()"
   ]
  },
  {
   "cell_type": "markdown",
   "id": "c54ed36a",
   "metadata": {},
   "source": [
    "Contrary to the above conclusions, plotting income inequality against GDP per capita indicates a negative correlation between the two. To the extent that more income distribution is not a zero-sum game, increased concentration of income at the top end of the distribution does not result in higher productivity. Note the distinction between wealth and income for clarity."
   ]
  },
  {
   "cell_type": "code",
   "execution_count": null,
   "id": "cc2b9cd4",
   "metadata": {
    "scrolled": false
   },
   "outputs": [],
   "source": [
    "relevant_columns = [\"GDP_Per_Capita\", \n",
    "                    \"% Income Held by Top 10%\", \n",
    "                    \"% Population Living on <$5.50/Day\", \n",
    "                    \"% Population Living on <$1.90/Day\", \n",
    "                    \"US Sanctions\"]\n",
    "corrs = fully_merged[relevant_columns].corr()\n",
    "\n",
    "figure = ff.create_annotated_heatmap(\n",
    "    z = corrs.values,\n",
    "    x = list(corrs.columns),\n",
    "    y = list(corrs.index),\n",
    "    annotation_text = corrs.round(2).values,\n",
    "    showscale = True)\n",
    "figure.show()"
   ]
  },
  {
   "cell_type": "code",
   "execution_count": null,
   "id": "f0f6a77e",
   "metadata": {},
   "outputs": [],
   "source": [
    "list_of_countries = list(fully_merged[\"Country\"].sample(n = 10))\n",
    "countries_series = fully_merged[\"Country\"].loc[fully_merged[\"Country\"].isin(list_of_countries)]\n",
    "relevant_columns = [\"GDP_Per_Capita\", \n",
    "                    \"% Income Held by Top 10%\", \n",
    "                    \"% Population Living on <$5.50/Day\"]\n",
    "@interact(y = relevant_columns)\n",
    "def make_boxen(y):\n",
    "    sns.set(rc={'figure.figsize':(15,10)})\n",
    "    sns.boxenplot(x = countries_series, y = y, data = fully_merged, orient = \"v\", palette = \"Set3\", k_depth = \"full\")\n",
    "    plt.show()"
   ]
  },
  {
   "cell_type": "raw",
   "id": "bfc87e51",
   "metadata": {},
   "source": [
    "fig = go.Figure(go.choropleth())\n",
    "fig.update_geos(\n",
    "    visible = True, \n",
    "    resolution = 110,\n",
    "    showcountries = True, \n",
    "    countrycolor=\"darkgreen\", \n",
    "    projection_type=\"orthographic\"\n",
    ")\n",
    "fig.update_layout(height = 400, \n",
    "                  margin={\"r\":1,\"t\":0,\"l\":0,\"b\":0})\n",
    "fig.show()"
   ]
  },
  {
   "cell_type": "raw",
   "id": "365cbd64",
   "metadata": {},
   "source": [
    "fig = px.choropleth(fully_merged, locations = \"iso_alpha\",\n",
    "                    color = \"GDP_Per_Capita\",\n",
    "                    color_continuous_scale = px.colors.sequential.Plasma)\n",
    "fig.show()"
   ]
  }
 ],
 "metadata": {
  "kernelspec": {
   "display_name": "Python 3 (ipykernel)",
   "language": "python",
   "name": "python3"
  },
  "language_info": {
   "codemirror_mode": {
    "name": "ipython",
    "version": 3
   },
   "file_extension": ".py",
   "mimetype": "text/x-python",
   "name": "python",
   "nbconvert_exporter": "python",
   "pygments_lexer": "ipython3",
   "version": "3.8.11"
  }
 },
 "nbformat": 4,
 "nbformat_minor": 5
}
