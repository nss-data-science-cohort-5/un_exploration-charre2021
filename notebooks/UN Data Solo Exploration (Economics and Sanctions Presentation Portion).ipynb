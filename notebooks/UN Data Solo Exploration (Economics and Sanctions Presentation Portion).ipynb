{
 "cells": [
  {
   "cell_type": "code",
   "execution_count": null,
   "id": "0b73bbc9",
   "metadata": {
    "scrolled": true
   },
   "outputs": [],
   "source": [
    "import pandas as pd\n",
    "import numpy as np\n",
    "import plotly.express as px\n",
    "import plotly.figure_factory as ff\n",
    "import plotly.graph_objects as go\n",
    "import warnings; warnings.simplefilter('ignore')"
   ]
  },
  {
   "cell_type": "code",
   "execution_count": null,
   "id": "b070ddb0",
   "metadata": {
    "scrolled": true
   },
   "outputs": [],
   "source": [
    "fully_merged = pd.read_csv('../data/fully_merged_to_be_imported.csv')\n",
    "fully_merged.describe(exclude = ['object', 'int64', 'bool'])"
   ]
  },
  {
   "cell_type": "code",
   "execution_count": null,
   "id": "2b5c08b3",
   "metadata": {
    "scrolled": true
   },
   "outputs": [],
   "source": [
    "sample_years = fully_merged.loc[fully_merged['Year'].isin([2018, 2010, 2000])]\n",
    "\n",
    "fig = px.histogram(sample_years, x = \"% Population Living on <$5.50/Day\", color = 'Year', barmode = 'group')\n",
    "fig.show()"
   ]
  },
  {
   "cell_type": "code",
   "execution_count": null,
   "id": "fae81674",
   "metadata": {
    "scrolled": true
   },
   "outputs": [],
   "source": [
    "fig = px.histogram(sample_years, x = \"% Population Living on <$1.90/Day\", color = 'Year', barmode = 'group')\n",
    "fig.show()"
   ]
  },
  {
   "cell_type": "code",
   "execution_count": null,
   "id": "81d879f7",
   "metadata": {
    "scrolled": false
   },
   "outputs": [],
   "source": [
    "fig = px.histogram(sample_years, x = \"% Income Held by Top 10%\", color = 'Year', barmode = 'group')\n",
    "fig.show()"
   ]
  },
  {
   "cell_type": "markdown",
   "id": "ba06c5d2",
   "metadata": {},
   "source": [
    "Limitations on the above: Sanctions are marked \"true\" even for years where no US sanctions were imposed (which would make the data look *worse*. Ironically, however, the distributions look remarkably similar for the poverty data and better for the income inequality data. There may be, however, a sampling bias in the data given the missing values from countries under US sanctions. "
   ]
  },
  {
   "cell_type": "code",
   "execution_count": null,
   "id": "1cd9645f",
   "metadata": {
    "scrolled": false
   },
   "outputs": [],
   "source": [
    "fig = px.scatter(fully_merged, \n",
    "                 x = \"% Income Held by Top 10%\", \n",
    "                 y = \"% Population Living on <$1.90/Day\", \n",
    "                 color = \"Continent\",\n",
    "                 size= \"GDP_Per_Capita\", \n",
    "                 hover_data = [\"Country\", \"Year\"])\n",
    "fig.show()"
   ]
  },
  {
   "cell_type": "code",
   "execution_count": null,
   "id": "89a1402f",
   "metadata": {
    "scrolled": false
   },
   "outputs": [],
   "source": [
    "fig = px.scatter(fully_merged, \n",
    "                 x = \"% Income Held by Top 10%\", \n",
    "                 y = \"% Population Living on <$5.50/Day\", \n",
    "                 color = \"Continent\",\n",
    "                 size= \"GDP_Per_Capita\", \n",
    "                 hover_data = [\"Country\", \"Year\"])\n",
    "fig.show()"
   ]
  },
  {
   "cell_type": "markdown",
   "id": "a9172755",
   "metadata": {},
   "source": [
    "Deep poverty is less correlated with income inequality, but marginally less deep poverty is suspect in this regard--particularly for countries in North America, South America and Africa. This conclusion is less true for countries in Europe and Asia. Interestingly, GDP Per Capita seems to be negatively correlated with both."
   ]
  },
  {
   "cell_type": "code",
   "execution_count": null,
   "id": "877268b8",
   "metadata": {
    "scrolled": false
   },
   "outputs": [],
   "source": [
    "fig = px.scatter(fully_merged, \n",
    "                 x = \"% Income Held by Top 10%\", \n",
    "                 y = \"GDP_Per_Capita\", \n",
    "                 hover_data = [\"Country\", \"Year\"], \n",
    "                 trendline = \"ols\")\n",
    "fig.show()"
   ]
  },
  {
   "cell_type": "code",
   "execution_count": null,
   "id": "cc2b9cd4",
   "metadata": {
    "scrolled": false
   },
   "outputs": [],
   "source": [
    "relevant_columns = [\"GDP_Per_Capita\", \n",
    "                    \"% Income Held by Top 10%\", \n",
    "                    \"% Population Living on <$5.50/Day\", \n",
    "                    \"% Population Living on <$1.90/Day\", \n",
    "                    \"US Sanctions\"]\n",
    "corrs = fully_merged[relevant_columns].corr()\n",
    "\n",
    "figure = ff.create_annotated_heatmap(\n",
    "    z = corrs.values,\n",
    "    x = list(corrs.columns),\n",
    "    y = list(corrs.index),\n",
    "    annotation_text = corrs.round(2).values,\n",
    "    showscale = True)\n",
    "figure.show()"
   ]
  }
 ],
 "metadata": {
  "kernelspec": {
   "display_name": "Python 3 (ipykernel)",
   "language": "python",
   "name": "python3"
  },
  "language_info": {
   "codemirror_mode": {
    "name": "ipython",
    "version": 3
   },
   "file_extension": ".py",
   "mimetype": "text/x-python",
   "name": "python",
   "nbconvert_exporter": "python",
   "pygments_lexer": "ipython3",
   "version": "3.8.11"
  }
 },
 "nbformat": 4,
 "nbformat_minor": 5
}
