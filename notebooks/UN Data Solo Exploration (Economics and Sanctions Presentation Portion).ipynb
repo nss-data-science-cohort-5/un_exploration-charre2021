{
 "cells": [
  {
   "cell_type": "code",
   "execution_count": null,
   "id": "0b73bbc9",
   "metadata": {
    "scrolled": true
   },
   "outputs": [],
   "source": [
    "import pandas as pd\n",
    "import numpy as np\n",
    "import plotly.express as px\n",
    "import plotly.figure_factory as ff\n",
    "import seaborn as sns\n",
    "from ipywidgets import interact\n",
    "import matplotlib.pyplot as plt\n",
    "import plotly.graph_objects as go\n",
    "import warnings; warnings.simplefilter('ignore')"
   ]
  },
  {
   "cell_type": "code",
   "execution_count": null,
   "id": "b070ddb0",
   "metadata": {
    "scrolled": true
   },
   "outputs": [],
   "source": [
    "fully_merged = pd.read_csv('../data/fully_merged_to_be_imported.csv')\n",
    "fully_merged.describe(exclude = ['object', 'int64', 'bool'])"
   ]
  },
  {
   "cell_type": "markdown",
   "id": "45cac1e3",
   "metadata": {},
   "source": [
    "Note that the IQRs for the statistics collected are greatest for GDP per capita and the percentage of the population living on <$5.50/day--extreme ranges and standard deviations for both. Each statistic is right-skewed as well: note that the mean is greater than the median for each. \n",
    "\n",
    "**Note**: Country data only includes data from 1990 to 2019 to make all datasets cover about the same information over the same period of time."
   ]
  },
  {
   "cell_type": "code",
   "execution_count": null,
   "id": "2b5c08b3",
   "metadata": {
    "scrolled": false
   },
   "outputs": [],
   "source": [
    "sample_years = fully_merged.loc[fully_merged['Year'].isin([2018, 2010, 2000])]\n",
    "\n",
    "fig = px.histogram(sample_years, \n",
    "                   x = \"% Population Living on <$5.50/Day\", \n",
    "                   color = 'Continent', \n",
    "                   barmode = 'stack', \n",
    "                   nbins = 20)\n",
    "fig.show()"
   ]
  },
  {
   "cell_type": "markdown",
   "id": "5bbb46c0",
   "metadata": {},
   "source": [
    "Europe by far enjoys the least poverty among its countries. Poverty in the remainder of the continents is distributed roughly equally, ignoring Oceania (given its size), and noting that certain Africa countries experience extremely high rates of poverty (the distribution for Africa is almost flipped). "
   ]
  },
  {
   "cell_type": "code",
   "execution_count": null,
   "id": "fae81674",
   "metadata": {},
   "outputs": [],
   "source": [
    "fig = px.histogram(sample_years, \n",
    "                   x = \"% Population Living on <$1.90/Day\",\n",
    "                   color = 'Year',\n",
    "                   color_discrete_sequence = px.colors.qualitative.Dark2,\n",
    "                   marginal = 'box')\n",
    "fig.show()"
   ]
  },
  {
   "cell_type": "markdown",
   "id": "0409b0f8",
   "metadata": {},
   "source": [
    "Extremely deep poverty has appeared to have been alleviated over the years, as percentages in most countries dropped from 2000 to 2018 to nearly 0%. Note also the decrease in outliers and variance."
   ]
  },
  {
   "cell_type": "code",
   "execution_count": null,
   "id": "81d879f7",
   "metadata": {
    "scrolled": false
   },
   "outputs": [],
   "source": [
    "fig = px.histogram(fully_merged, x = \"% Income Held by Top 10%\", pattern_shape = \"Continent\")\n",
    "fig.show()"
   ]
  },
  {
   "cell_type": "markdown",
   "id": "d7c94109",
   "metadata": {},
   "source": [
    "Income inequality has historically trended higher in North and South America overall, though extremely high outliers of income concentration are located in Africa."
   ]
  },
  {
   "cell_type": "code",
   "execution_count": null,
   "id": "1cd9645f",
   "metadata": {
    "scrolled": false
   },
   "outputs": [],
   "source": [
    "fig = px.scatter(fully_merged, \n",
    "                 x = \"% Income Held by Top 10%\", \n",
    "                 y = \"% Population Living on <$1.90/Day\", \n",
    "                 color = \"Continent\",\n",
    "                 size= \"GDP_Per_Capita\", \n",
    "                 hover_data = [\"Country\", \"Year\"])\n",
    "fig.show()"
   ]
  },
  {
   "cell_type": "code",
   "execution_count": null,
   "id": "89a1402f",
   "metadata": {
    "scrolled": false
   },
   "outputs": [],
   "source": [
    "fig = px.scatter(fully_merged, \n",
    "                 x = \"% Income Held by Top 10%\", \n",
    "                 y = \"% Population Living on <$5.50/Day\", \n",
    "                 color = \"Continent\",\n",
    "                 size= \"GDP_Per_Capita\", \n",
    "                 hover_data = [\"Country\", \"Year\"])\n",
    "fig.show()"
   ]
  },
  {
   "cell_type": "markdown",
   "id": "a9172755",
   "metadata": {},
   "source": [
    "Deep poverty is less correlated with income inequality, but marginally less deep poverty is suspect in this regard--particularly for countries in North America, South America and Africa. This conclusion is less true for countries in Europe and Asia. The foregoing suggests that income distribution among percentiles is to some extent, a zero-sum game."
   ]
  },
  {
   "cell_type": "code",
   "execution_count": null,
   "id": "877268b8",
   "metadata": {
    "scrolled": false
   },
   "outputs": [],
   "source": [
    "fig = px.scatter(fully_merged, \n",
    "                 x = \"% Income Held by Top 10%\", \n",
    "                 y = \"GDP_Per_Capita\", \n",
    "                 hover_data = [\"Country\", \"Year\"], \n",
    "                 trendline = \"ols\")\n",
    "fig.show()"
   ]
  },
  {
   "cell_type": "markdown",
   "id": "c54ed36a",
   "metadata": {},
   "source": [
    "Contrary to the above conclusions, plotting income inequality against GDP per capita indicates a negative correlation between the two. To the extent that more income distribution is not a zero-sum game, increased concentration of income at the top end of the distribution does not result in higher overall productivity. Note the distinction between wealth and income for clarity. Note also that the majority of the outliers are Luxembourg."
   ]
  },
  {
   "cell_type": "code",
   "execution_count": null,
   "id": "cc2b9cd4",
   "metadata": {
    "scrolled": false
   },
   "outputs": [],
   "source": [
    "relevant_columns = [\"GDP_Per_Capita\", \n",
    "                    \"% Income Held by Top 10%\", \n",
    "                    \"% Population Living on <$5.50/Day\", \n",
    "                    \"% Population Living on <$1.90/Day\", \n",
    "                    \"US Sanctions\"]\n",
    "corrs = fully_merged[relevant_columns].corr()\n",
    "\n",
    "figure = ff.create_annotated_heatmap(\n",
    "    z = corrs.values,\n",
    "    x = list(corrs.columns),\n",
    "    y = list(corrs.index),\n",
    "    annotation_text = corrs.round(2).values,\n",
    "    showscale = True)\n",
    "figure.show()"
   ]
  },
  {
   "cell_type": "markdown",
   "id": "82e138e1",
   "metadata": {},
   "source": [
    "The correlation heatmap emphasizes the apparent results of the scatterplots above, with one addition. Based on current data (which admittedly is limited), US sanctions are not strongly correlated with worse GDP Per Capita, poverty or income inequality. This is contrary to what would be expected, and more study and data are needed."
   ]
  },
  {
   "cell_type": "code",
   "execution_count": null,
   "id": "f0f6a77e",
   "metadata": {},
   "outputs": [],
   "source": [
    "list_of_countries = list(fully_merged[\"Country\"].sample(n = 10))\n",
    "countries_series = fully_merged[\"Country\"].loc[fully_merged[\"Country\"].isin(list_of_countries)]\n",
    "relevant_columns = [\"GDP_Per_Capita\", \n",
    "                    \"% Income Held by Top 10%\", \n",
    "                    \"% Population Living on <$5.50/Day\"]\n",
    "@interact(y = relevant_columns)\n",
    "def make_boxen(y):\n",
    "    sns.set(rc={'figure.figsize':(15,10)})\n",
    "    sns.boxenplot(x = countries_series, y = y, data = fully_merged, orient = \"v\", palette = \"Set3\", k_depth = \"full\")\n",
    "    plt.show()"
   ]
  },
  {
   "cell_type": "markdown",
   "id": "b092650d",
   "metadata": {},
   "source": [
    "This code randomly samples 10 countries and generates boxenplots for each on the statistics for GDP Per Capita, poverty percentages and income inequality. There's not much to say here, as statistics for each country can vary wildly in terms of median, IQR, overall range and variability."
   ]
  },
  {
   "cell_type": "code",
   "execution_count": null,
   "id": "5347742b",
   "metadata": {},
   "outputs": [],
   "source": [
    "fig = px.choropleth(fully_merged, \n",
    "                    locations = \"Code\",\n",
    "                    color = \"% Population Living on <$5.50/Day\",\n",
    "                    color_continuous_scale = px.colors.sequential.haline,\n",
    "                    projection = \"orthographic\",\n",
    "                    hover_data = [\"Country\"])\n",
    "fig.show()"
   ]
  }
 ],
 "metadata": {
  "kernelspec": {
   "display_name": "Python 3 (ipykernel)",
   "language": "python",
   "name": "python3"
  },
  "language_info": {
   "codemirror_mode": {
    "name": "ipython",
    "version": 3
   },
   "file_extension": ".py",
   "mimetype": "text/x-python",
   "name": "python",
   "nbconvert_exporter": "python",
   "pygments_lexer": "ipython3",
   "version": "3.8.11"
  }
 },
 "nbformat": 4,
 "nbformat_minor": 5
}
