{
 "cells": [
  {
   "cell_type": "markdown",
   "id": "39d41184",
   "metadata": {
    "slideshow": {
     "slide_type": "slide"
    }
   },
   "source": [
    "## UN Data Solo Exploration Project - Economic Indicators\n",
    "\n",
    "#### - Chris Harrelson"
   ]
  },
  {
   "cell_type": "code",
   "execution_count": null,
   "id": "0b73bbc9",
   "metadata": {
    "scrolled": false,
    "slideshow": {
     "slide_type": "slide"
    }
   },
   "outputs": [],
   "source": [
    "import pandas as pd\n",
    "import numpy as np\n",
    "import plotly.express as px\n",
    "import plotly.figure_factory as ff\n",
    "import plotly.graph_objects as go\n",
    "import seaborn as sns\n",
    "import matplotlib.pyplot as plt\n",
    "from ipywidgets import interact\n",
    "import warnings; warnings.simplefilter('ignore')\n",
    "from IPython.display import Javascript\n",
    "from plotly.offline import get_plotlyjs\n",
    "import plotly\n",
    "Javascript(get_plotlyjs())"
   ]
  },
  {
   "cell_type": "code",
   "execution_count": null,
   "id": "b070ddb0",
   "metadata": {
    "scrolled": true,
    "slideshow": {
     "slide_type": "slide"
    }
   },
   "outputs": [],
   "source": [
    "# Read in dataset and describe basic statistics.\n",
    "\n",
    "fully_merged = pd.read_csv('../data/fully_merged_to_be_imported.csv')\n",
    "fully_merged.describe(exclude = ['object', 'int64', 'bool'])"
   ]
  },
  {
   "cell_type": "markdown",
   "id": "45cac1e3",
   "metadata": {
    "slideshow": {
     "slide_type": "subslide"
    }
   },
   "source": [
    "Note that the IQRs for the statistics collected are greatest for GDP per capita and the percentage of the population living on <$5.50/day--extreme ranges and standard deviations for both. Each statistic is right-skewed as well: note that the mean is greater than the median for each. Note also that minimum for income inequality is roughly ~20%.\n",
    "\n",
    "**Note**: Country data only includes data from 1990 to 2019 to make all datasets cover about the same information over the same period of time."
   ]
  },
  {
   "cell_type": "code",
   "execution_count": null,
   "id": "2b5c08b3",
   "metadata": {
    "scrolled": false,
    "slideshow": {
     "slide_type": "slide"
    }
   },
   "outputs": [],
   "source": [
    "# Shows color histogram and boxplots of poverty for each continent by particular years.\n",
    "plotly.offline.init_notebook_mode(connected=True)\n",
    "sample_years = fully_merged.loc[fully_merged['Year'].isin([2018, 2010, 2000])]\n",
    "\n",
    "fig = px.histogram(sample_years, \n",
    "                   x = \"% Population Living on <$5.50/Day\", \n",
    "                   color = 'Continent', \n",
    "                   barmode = 'stack', \n",
    "                   nbins = 20)\n",
    "fig.show()"
   ]
  },
  {
   "cell_type": "markdown",
   "id": "5bbb46c0",
   "metadata": {
    "slideshow": {
     "slide_type": "subslide"
    }
   },
   "source": [
    "Based on data from 2000, 2010, and 2018, Europe by far enjoys the least poverty among its countries. Poverty in the remainder of the continents is distributed roughly equally, ignoring Oceania (given the number of countries it includes), and noting that certain African countries experience extremely high rates of poverty (the distribution for Africa is almost flipped). "
   ]
  },
  {
   "cell_type": "code",
   "execution_count": null,
   "id": "fae81674",
   "metadata": {
    "slideshow": {
     "slide_type": "slide"
    }
   },
   "outputs": [],
   "source": [
    "# Shows color histogram and boxplots of deep poverty by particular years.\n",
    "plotly.offline.init_notebook_mode(connected=True)\n",
    "fig = px.histogram(sample_years, \n",
    "                   x = \"% Population Living on <$1.90/Day\",\n",
    "                   color = 'Year',\n",
    "                   color_discrete_sequence = px.colors.qualitative.Dark2,\n",
    "                   marginal = 'box')\n",
    "fig.show()"
   ]
  },
  {
   "cell_type": "markdown",
   "id": "0409b0f8",
   "metadata": {
    "slideshow": {
     "slide_type": "subslide"
    }
   },
   "source": [
    "Deep poverty appears to have been alleviated over the years, as percentages in most countries dropped from 2000 to 2018 to nearly 0%. Unclear if this is an effect of inflation: dollars are equalized among countries in the dataset but not necessarily over time. Given low inflation throughout this time period (contrast with our current environment), one would think that the effect of inflation on these statistics is probably low. Note also the decrease in outliers and variance."
   ]
  },
  {
   "cell_type": "code",
   "execution_count": null,
   "id": "81d879f7",
   "metadata": {
    "scrolled": false,
    "slideshow": {
     "slide_type": "slide"
    }
   },
   "outputs": [],
   "source": [
    "# Shows stacked histogram of income inequality by continent.\n",
    "plotly.offline.init_notebook_mode(connected=True)\n",
    "fig = px.histogram(fully_merged, x = \"% Income Held by Top 10%\", pattern_shape = \"Continent\")\n",
    "fig.show()"
   ]
  },
  {
   "cell_type": "markdown",
   "id": "d7c94109",
   "metadata": {
    "slideshow": {
     "slide_type": "subslide"
    }
   },
   "source": [
    "Income inequality has historically trended higher in North and South America overall, though extremely high outliers of income concentration are located in Africa.\n",
    "\n",
    "**Note**: This presentation does not necessarily seek to prescribe allevation measures for poverty and deep poverty, but overall, an approach that favors culturally appropriate economic empowerment and disfavors foreign dependence or excessive foreign interference likely makes the most sense."
   ]
  },
  {
   "cell_type": "code",
   "execution_count": null,
   "id": "1cd9645f",
   "metadata": {
    "scrolled": false,
    "slideshow": {
     "slide_type": "slide"
    }
   },
   "outputs": [],
   "source": [
    "# Shows plotly scatterplot between income inequality and deep poverty datapoints.\n",
    "plotly.offline.init_notebook_mode(connected=True)\n",
    "fig = px.scatter(fully_merged, \n",
    "                 x = \"% Income Held by Top 10%\", \n",
    "                 y = \"% Population Living on <$1.90/Day\", \n",
    "                 color = \"Continent\",\n",
    "                 size= \"GDP_Per_Capita\", \n",
    "                 hover_data = [\"Country\", \"Year\"])\n",
    "fig.show()"
   ]
  },
  {
   "cell_type": "code",
   "execution_count": null,
   "id": "89a1402f",
   "metadata": {
    "scrolled": false,
    "slideshow": {
     "slide_type": "slide"
    }
   },
   "outputs": [],
   "source": [
    "# Shows plotly scatterplot between income inequality and poverty datapoints.\n",
    "plotly.offline.init_notebook_mode(connected=True)\n",
    "fig = px.scatter(fully_merged, \n",
    "                 x = \"% Income Held by Top 10%\", \n",
    "                 y = \"% Population Living on <$5.50/Day\", \n",
    "                 color = \"Continent\",\n",
    "                 size= \"GDP_Per_Capita\", \n",
    "                 hover_data = [\"Country\", \"Year\"])\n",
    "fig.show()"
   ]
  },
  {
   "cell_type": "markdown",
   "id": "a9172755",
   "metadata": {
    "slideshow": {
     "slide_type": "subslide"
    }
   },
   "source": [
    "Deep poverty is less correlated with income inequality, but marginally less deep poverty is suspect in this regard--particularly for countries in North America, South America and Africa. This conclusion is less true for countries in Europe and Asia. The foregoing suggests that income distribution among percentiles is to some extent, a zero-sum game."
   ]
  },
  {
   "cell_type": "code",
   "execution_count": null,
   "id": "877268b8",
   "metadata": {
    "scrolled": false,
    "slideshow": {
     "slide_type": "slide"
    }
   },
   "outputs": [],
   "source": [
    "# Shows plotly scatterplot and trendline between income inequality and GDP per capita datapoints.\n",
    "plotly.offline.init_notebook_mode(connected=True)\n",
    "fig = px.scatter(fully_merged, \n",
    "                 x = \"% Income Held by Top 10%\", \n",
    "                 y = \"GDP_Per_Capita\", \n",
    "                 hover_data = [\"Country\", \"Year\"], \n",
    "                 trendline = \"ols\")\n",
    "fig.show()"
   ]
  },
  {
   "cell_type": "markdown",
   "id": "c54ed36a",
   "metadata": {
    "slideshow": {
     "slide_type": "subslide"
    }
   },
   "source": [
    "Contrary to the above conclusions, plotting income inequality against GDP per capita indicates a negative correlation between the two. To the extent that income distribution is not a zero-sum game, increased concentration of income at the top end of the distribution does not result in higher overall productivity. Note the distinction between wealth and income for clarity. Note also that the majority of the outliers are Luxembourg, with high income inequality outliers focused in South America and Africa."
   ]
  },
  {
   "cell_type": "code",
   "execution_count": null,
   "id": "3dd14ebe",
   "metadata": {
    "slideshow": {
     "slide_type": "slide"
    }
   },
   "outputs": [],
   "source": [
    "# Creates heatmap of correlation coefficients for certain variables in the dataset.\n",
    "relevant_columns = [\"GDP_Per_Capita\", \n",
    "                    \"% Income Held by Top 10%\", \n",
    "                    \"% Population Living on <$5.50/Day\", \n",
    "                    \"% Population Living on <$1.90/Day\", \n",
    "                    \"US Sanctions\"]\n",
    "corrs = fully_merged[relevant_columns].corr()"
   ]
  },
  {
   "cell_type": "code",
   "execution_count": null,
   "id": "cc2b9cd4",
   "metadata": {
    "scrolled": false,
    "slideshow": {
     "slide_type": "slide"
    }
   },
   "outputs": [],
   "source": [
    "plotly.offline.init_notebook_mode(connected=True)\n",
    "\n",
    "figure = ff.create_annotated_heatmap(\n",
    "    z = corrs.values,\n",
    "    x = list(corrs.columns),\n",
    "    y = list(corrs.index),\n",
    "    annotation_text = corrs.round(2).values,\n",
    "    showscale = True)\n",
    "figure.show()"
   ]
  },
  {
   "cell_type": "markdown",
   "id": "82e138e1",
   "metadata": {
    "slideshow": {
     "slide_type": "subslide"
    }
   },
   "source": [
    "The correlation heatmap emphasizes the apparent results of the scatterplots above, with one addition. Based on current data (which admittedly is limited), US sanctions are not strongly correlated with worse GDP Per Capita, poverty or income inequality. This is contrary to what would be expected, and more study and data are needed."
   ]
  },
  {
   "cell_type": "code",
   "execution_count": null,
   "id": "7f36f520",
   "metadata": {
    "slideshow": {
     "slide_type": "slide"
    }
   },
   "outputs": [],
   "source": [
    "# Samples 10 countries and then shows boxenplots for them based on relevant numeric variables.\n",
    "\n",
    "list_of_countries = list(fully_merged[\"Country\"].sample(n = 10))\n",
    "countries_series = fully_merged[\"Country\"].loc[fully_merged[\"Country\"].isin(list_of_countries)]\n",
    "relevant_columns = [\"GDP_Per_Capita\", \n",
    "                    \"% Income Held by Top 10%\", \n",
    "                    \"% Population Living on <$5.50/Day\"]"
   ]
  },
  {
   "cell_type": "code",
   "execution_count": null,
   "id": "f0f6a77e",
   "metadata": {
    "slideshow": {
     "slide_type": "slide"
    }
   },
   "outputs": [],
   "source": [
    "@interact(y = relevant_columns)\n",
    "def make_boxen(y):\n",
    "    sns.set(rc={'figure.figsize':(15,10)})\n",
    "    sns.boxenplot(x = countries_series, y = y, data = fully_merged, orient = \"v\", palette = \"Set3\", k_depth = \"full\")\n",
    "    plt.show()"
   ]
  },
  {
   "cell_type": "markdown",
   "id": "b092650d",
   "metadata": {
    "slideshow": {
     "slide_type": "subslide"
    }
   },
   "source": [
    "This code randomly samples 10 countries and generates boxenplots for each of the statistics for GDP Per Capita, poverty percentages and income inequality. There's not much to say here, as statistics for each country can vary wildly in terms of median, IQR, overall range and variability. One note is that developed countries generally experience less variability for each statistic."
   ]
  },
  {
   "cell_type": "code",
   "execution_count": null,
   "id": "5347742b",
   "metadata": {
    "slideshow": {
     "slide_type": "slide"
    }
   },
   "outputs": [],
   "source": [
    "# Shows choropleth globe where median poverty statistic is shown through color intensity.\n",
    "plotly.offline.init_notebook_mode(connected=True)\n",
    "the_medians = pd.DataFrame(fully_merged.groupby(\"Country\")[\"% Population Living on <$5.50/Day\"].median())\n",
    "the_medians.rename(columns = {\"% Population Living on <$5.50/Day\":\"Median % Population Living on <$5.50/Day\"}, \n",
    "                   inplace = True)\n",
    "fully_merged_2 = pd.merge(fully_merged, the_medians, on = \"Country\", how = 'inner')\n",
    "\n",
    "fig = px.choropleth(fully_merged_2, \n",
    "                    locations = \"Code\",\n",
    "                    color = \"Median % Population Living on <$5.50/Day\",\n",
    "                    color_continuous_scale = px.colors.sequential.haline,\n",
    "                    projection = \"orthographic\",\n",
    "                    hover_data = [\"Country\"])\n",
    "fig.show()"
   ]
  },
  {
   "cell_type": "markdown",
   "id": "30949140",
   "metadata": {
    "slideshow": {
     "slide_type": "subslide"
    }
   },
   "source": [
    "The globe reinforces what was learned previously, but in a much clearer (and cooler) way!"
   ]
  }
 ],
 "metadata": {
  "celltoolbar": "Slideshow",
  "kernelspec": {
   "display_name": "Python 3 (ipykernel)",
   "language": "python",
   "name": "python3"
  },
  "language_info": {
   "codemirror_mode": {
    "name": "ipython",
    "version": 3
   },
   "file_extension": ".py",
   "mimetype": "text/x-python",
   "name": "python",
   "nbconvert_exporter": "python",
   "pygments_lexer": "ipython3",
   "version": "3.8.11"
  }
 },
 "nbformat": 4,
 "nbformat_minor": 5
}
