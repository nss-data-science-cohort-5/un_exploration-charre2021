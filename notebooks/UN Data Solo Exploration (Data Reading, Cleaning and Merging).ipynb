{
 "cells": [
  {
   "cell_type": "code",
   "execution_count": null,
   "id": "be2e02e9",
   "metadata": {},
   "outputs": [],
   "source": [
    "import pandas as pd\n",
    "import numpy as np\n",
    "from fuzzywuzzy import fuzz\n",
    "from sklearn import preprocessing\n",
    "from functools import reduce\n",
    "import warnings; warnings.simplefilter('ignore')"
   ]
  },
  {
   "cell_type": "code",
   "execution_count": null,
   "id": "d2c2ff9c",
   "metadata": {},
   "outputs": [],
   "source": [
    "# Data cleaning function\n",
    "\n",
    "def Country_Swap(target, acquirer):\n",
    "    \"\"\"Makes initial replacements of certain terms for eventual fuzzy matching and then fuzzy matches country names to improve dataframe merge results.\"\"\"\n",
    "    Swap_Out = ['Korea (Rep. of)',\n",
    "                'Democratic',\n",
    "                'Republic',\n",
    "                'Czechia',\n",
    "                'Slovakia',\n",
    "                'West Bank and Gaza',\n",
    "                'Kyrgyzstan',\n",
    "                'T.F.Y.R. Macedonia',\n",
    "                'Brunei Darussalam',\n",
    "                'Syrian Arab Rep.']\n",
    "    Swap_In = ['Korea',\n",
    "               'Dem.',\n",
    "               'Rep.',\n",
    "               'Czech Rep.',\n",
    "               'Slovak Rep.',\n",
    "               'Palestine',\n",
    "               'Kyrgyz Rep.',\n",
    "               'North Macedonia',\n",
    "               'Brunei',\n",
    "               'Syria']\n",
    "    for i in Swap_Out:\n",
    "        acquirer['Country'] = acquirer['Country'].str.replace(i, Swap_In[Swap_Out.index(i)])\n",
    "        target['Country'] = target['Country'].str.replace(i, Swap_In[Swap_Out.index(i)])\n",
    "        \n",
    "    banned_list = ['Australia', 'Austria', 'Iceland', 'Ireland', 'Congo', 'China']\n",
    "    target_list = list(target['Country'].unique())\n",
    "    acquirer_list = list(acquirer['Country'].unique())\n",
    "    \n",
    "    for i in target_list:\n",
    "        for j in acquirer_list:\n",
    "            if i not in acquirer_list:\n",
    "                if (fuzz.ratio(i,j) >= 80) and (i not in banned_list) and (j not in banned_list):\n",
    "                    target['Country'] = target['Country'].replace(to_replace = i, value = j)\n",
    "                elif (fuzz.partial_ratio(i,j) >= 90) and (i not in banned_list) and (j not in banned_list):\n",
    "                    target['Country'] = target['Country'].replace(to_replace = i, value = j)\n",
    "                elif (fuzz.token_set_ratio(i,j) >= 90) and (i not in banned_list) and (j not in banned_list):\n",
    "                    target['Country'] = target['Country'].replace(to_replace = i, value = j)\n",
    "    return target, acquirer"
   ]
  },
  {
   "cell_type": "code",
   "execution_count": null,
   "id": "e9b6a609",
   "metadata": {},
   "outputs": [],
   "source": [
    "# Importing dataframes relating to GDP, internet use, emissions and population.\n",
    "\n",
    "gdp_and_internet_use = pd.read_csv('../data/gdp_and_internet_use_to_be_imported_and_merged.csv')\n",
    "emissions = pd.read_csv(\"../data/CO2 Emissions.csv\", names = ['Country', 'Year', 'CO2 (kts) Emitted'], header = 0)\n",
    "population = pd.read_csv(\"../data/Population 1990 - 2020.csv\")"
   ]
  },
  {
   "cell_type": "code",
   "execution_count": null,
   "id": "8092882d",
   "metadata": {},
   "outputs": [],
   "source": [
    "population['Value'] = population['Value'].astype(int)\n",
    "population.rename(columns = {\"Year(s)\": \"Year\", \"Country or Area\": \"Country\"}, inplace = True)\n",
    "population = population.drop(axis = 1, columns = 'Variant')\n",
    "population = population[~population.Country.isin([\"United States Virgin Islands\", \"Australia/New Zealand\", \"Oceania (excluding Australia and New Zealand)\"])]"
   ]
  },
  {
   "cell_type": "code",
   "execution_count": null,
   "id": "66db343d",
   "metadata": {
    "scrolled": true
   },
   "outputs": [],
   "source": [
    "emissions, gdp_and_internet_use = Country_Swap(emissions, gdp_and_internet_use)\n",
    "gaiu_emissions = pd.merge(gdp_and_internet_use, \n",
    "                          emissions, \n",
    "                          how = 'inner').rename(columns = {'GDP_Per_Capita':'GDP Per Capita', \n",
    "                                                           'Internet_Use_Pct':'% Internet Use'})"
   ]
  },
  {
   "cell_type": "code",
   "execution_count": null,
   "id": "bf93f13a",
   "metadata": {},
   "outputs": [],
   "source": [
    "population, gaiu_emissions = Country_Swap(population, gaiu_emissions)\n",
    "gaiu_emissions = pd.merge(gaiu_emissions, population, on = [\"Country\",\"Year\"], how = 'inner')\n",
    "gaiu_emissions[\"CO2 (kts) Emitted Per 1000\"] = gaiu_emissions[\"CO2 (kts) Emitted\"]/(gaiu_emissions[\"Value\"])"
   ]
  },
  {
   "cell_type": "code",
   "execution_count": null,
   "id": "33e3bc07",
   "metadata": {},
   "outputs": [],
   "source": [
    "gaiu_emissions_2014 = gaiu_emissions[gaiu_emissions['Year'] == 2014]\n",
    "gaiu_emissions_1990 = gaiu_emissions[gaiu_emissions['Year'] == 1990]"
   ]
  },
  {
   "cell_type": "code",
   "execution_count": null,
   "id": "a1a58b3e",
   "metadata": {},
   "outputs": [],
   "source": [
    "relevant_variables = ['GDP Per Capita', '% Internet Use', 'CO2 (kts) Emitted', 'CO2 (kts) Emitted Per 1000']\n",
    "\n",
    "min_max_scaler = preprocessing.MinMaxScaler()\n",
    "for i in relevant_variables:\n",
    "    gaiu_emissions_2014[i] = min_max_scaler.fit_transform(gaiu_emissions_2014[[i]])\n",
    "    \n",
    "min_max_scaler = preprocessing.MinMaxScaler()\n",
    "for i in relevant_variables:\n",
    "    gaiu_emissions_1990[i] = min_max_scaler.fit_transform(gaiu_emissions_1990[[i]])\n",
    "    \n",
    "gaiu_emissions_1990_2014 = pd.concat([gaiu_emissions_1990, gaiu_emissions_2014])"
   ]
  },
  {
   "cell_type": "code",
   "execution_count": null,
   "id": "235ea7c7",
   "metadata": {},
   "outputs": [],
   "source": [
    "gaiu_emissions.to_csv('../data/gaiu_emissions_to_be_imported.csv', index = False)\n",
    "gaiu_emissions_1990_2014.to_csv('../data/gaiu_emissions_1990_2014_to_be_imported.csv', index = False)"
   ]
  },
  {
   "cell_type": "code",
   "execution_count": null,
   "id": "f9fe08a9",
   "metadata": {},
   "outputs": [],
   "source": [
    "# Adding income inequality measures to GDP per capita dataframe\n",
    "\n",
    "def Take_Out_the_NAs_On_Read(values):\n",
    "    \"\"\"Drops NA values on csv read.\"\"\"\n",
    "    if values == np.nan:\n",
    "        return 0\n",
    "    return values\n",
    "\n",
    "gdp_df = pd.read_csv('../data/gdp_df_to_be_imported_and_merged.csv')\n",
    "merged_df_1 = pd.read_csv(\"../data/Top Ten Income Share.csv\", skipfooter = 253, usecols = [i for i in range(3)])\n",
    "merged_df_2 = pd.read_csv(\"../data/Poverty Headcount $5.50.csv\", skipfooter = 260, usecols = [i for i in range(3)], converters={\"Value\": Take_Out_the_NAs_On_Read})\n",
    "merged_df_3 = pd.read_csv(\"../data/Poverty Headcount $1.90.csv\", skipfooter = 261, usecols = [i for i in range(3)], converters={\"Value\": Take_Out_the_NAs_On_Read})"
   ]
  },
  {
   "cell_type": "code",
   "execution_count": null,
   "id": "96d76d0d",
   "metadata": {},
   "outputs": [],
   "source": [
    "to_be_merged_dataframes = [gdp_df, merged_df_1, merged_df_2, merged_df_3]\n",
    "\n",
    "for i in to_be_merged_dataframes:\n",
    "    if not i.equals(gdp_df):\n",
    "        i.rename(columns = {\"Country or Area\":\"Country\"}, inplace = True)\n",
    "        i['Year'] = i['Year'].astype(int)\n",
    "        i['Value'] = i['Value'].astype(np.float)\n",
    "        Country_Swap(i, gdp_df)"
   ]
  },
  {
   "cell_type": "code",
   "execution_count": null,
   "id": "15aba8d2",
   "metadata": {},
   "outputs": [],
   "source": [
    "merged_df_1.rename(columns = {\"Value\":\"% Income Held by Top 10%\"}, inplace = True)\n",
    "merged_df_2.rename(columns = {\"Value\":\"% Population Living on <$5.50/Day\"}, inplace = True)\n",
    "merged_df_3.rename(columns = {\"Value\":\"% Population Living on <$1.90/Day\"}, inplace = True)"
   ]
  },
  {
   "cell_type": "code",
   "execution_count": null,
   "id": "425052e2",
   "metadata": {},
   "outputs": [],
   "source": [
    "fully_merged = reduce(lambda left, right: \n",
    "                      pd.merge(left, right, on = ['Country', 'Year'], how = 'inner'),\n",
    "                      to_be_merged_dataframes)"
   ]
  },
  {
   "cell_type": "code",
   "execution_count": null,
   "id": "b732686d",
   "metadata": {},
   "outputs": [],
   "source": [
    "US_Sanctions_List = ['North Macedonia', \n",
    "                     'Yugoslavia', \n",
    "                     'Serbia', \n",
    "                     'Belarus', \n",
    "                     'Burma', \n",
    "                     'Burundi', \n",
    "                     'Central African Rep.', \n",
    "                     'Cuba', \n",
    "                     'Dem. Rep. of Congo', \n",
    "                     'Hong Kong', \n",
    "                     'Iran', \n",
    "                     'Iraq', \n",
    "                     'Lebanon', \n",
    "                     'Libya', \n",
    "                     'Mali', \n",
    "                     'Nicaragua', \n",
    "                     'North Korea', \n",
    "                     'Somalia', \n",
    "                     'Sudan', \n",
    "                     'South Sudan', \n",
    "                     'Syria', \n",
    "                     'Crimea', \n",
    "                     'Russia', \n",
    "                     'Venezuela', \n",
    "                     'Yemen', \n",
    "                     'Zimbabwe']\n",
    "fully_merged['US Sanctions'] = False\n",
    "fully_merged['US Sanctions'].loc[fully_merged['Country'].isin([i for i in US_Sanctions_List])] = True"
   ]
  },
  {
   "cell_type": "code",
   "execution_count": null,
   "id": "7fb06528",
   "metadata": {},
   "outputs": [],
   "source": [
    "fully_merged.to_csv('../data/fully_merged_to_be_imported.csv', index = False)"
   ]
  }
 ],
 "metadata": {
  "kernelspec": {
   "display_name": "Python 3 (ipykernel)",
   "language": "python",
   "name": "python3"
  },
  "language_info": {
   "codemirror_mode": {
    "name": "ipython",
    "version": 3
   },
   "file_extension": ".py",
   "mimetype": "text/x-python",
   "name": "python",
   "nbconvert_exporter": "python",
   "pygments_lexer": "ipython3",
   "version": "3.8.11"
  }
 },
 "nbformat": 4,
 "nbformat_minor": 5
}
