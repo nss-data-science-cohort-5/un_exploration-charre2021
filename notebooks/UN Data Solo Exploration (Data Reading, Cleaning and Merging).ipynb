{
 "cells": [
  {
   "cell_type": "code",
   "execution_count": 154,
   "id": "be2e02e9",
   "metadata": {},
   "outputs": [],
   "source": [
    "import pandas as pd\n",
    "import numpy as np\n",
    "from fuzzywuzzy import fuzz\n",
    "from sklearn import preprocessing\n",
    "from functools import reduce\n",
    "import warnings; warnings.simplefilter('ignore')\n",
    "%matplotlib inline"
   ]
  },
  {
   "cell_type": "code",
   "execution_count": 155,
   "id": "480c189b",
   "metadata": {},
   "outputs": [],
   "source": [
    "# Data cleaning function\n",
    "\n",
    "def Country_Swap(target, acquirer):\n",
    "    \"\"\"Makes initial replacements of certain terms for eventual fuzzy matching and then fuzzy matches country names to improve dataframe merge results.\"\"\"\n",
    "    Swap_Out = ['Korea (Rep. of)', 'Democratic', 'Republic', 'Czechia', 'Slovakia', 'West Bank and Gaza', 'Kyrgyzstan', 'T.F.Y.R. Macedonia', 'Brunei Darussalam', 'Syrian Arab Rep.']\n",
    "    Swap_In = ['Korea', 'Dem.', 'Rep.', 'Czech Rep.', 'Slovak Rep.', 'Palestine', 'Kyrgyz Rep.', 'North Macedonia', 'Brunei', 'Syria']\n",
    "    for i in Swap_Out:\n",
    "        acquirer['Country'] = acquirer['Country'].str.replace(i, Swap_In[Swap_Out.index(i)])\n",
    "        target['Country'] = target['Country'].str.replace(i, Swap_In[Swap_Out.index(i)])\n",
    "        \n",
    "    banned_list = ['Australia', 'Austria', 'Iceland', 'Ireland', 'Congo', 'China']\n",
    "    target_list = list(target['Country'].unique())\n",
    "    acquirer_list = list(acquirer['Country'].unique())\n",
    "    \n",
    "    for i in target_list:\n",
    "        for j in acquirer_list:\n",
    "            if i not in acquirer_list:\n",
    "                if (fuzz.ratio(i,j) >= 80) and (i not in banned_list) and (j not in banned_list):\n",
    "                    target['Country'] = target['Country'].replace(to_replace = i, value = j)\n",
    "                elif (fuzz.partial_ratio(i,j) >= 90) and (i not in banned_list) and (j not in banned_list):\n",
    "                    target['Country'] = target['Country'].replace(to_replace = i, value = j)\n",
    "                elif (fuzz.token_set_ratio(i,j) >= 90) and (i not in banned_list) and (j not in banned_list):\n",
    "                    target['Country'] = target['Country'].replace(to_replace = i, value = j)\n",
    "    return target, acquirer"
   ]
  },
  {
   "cell_type": "code",
   "execution_count": 156,
   "id": "e9b6a609",
   "metadata": {},
   "outputs": [
    {
     "name": "stdout",
     "output_type": "stream",
     "text": [
      "<class 'pandas.core.frame.DataFrame'>\n",
      "RangeIndex: 3873 entries, 0 to 3872\n",
      "Data columns (total 5 columns):\n",
      " #   Column            Non-Null Count  Dtype  \n",
      "---  ------            --------------  -----  \n",
      " 0   Country           3873 non-null   object \n",
      " 1   Year              3873 non-null   int64  \n",
      " 2   GDP_Per_Capita    3873 non-null   float64\n",
      " 3   Continent         3873 non-null   object \n",
      " 4   Internet_Use_Pct  3873 non-null   float64\n",
      "dtypes: float64(2), int64(1), object(2)\n",
      "memory usage: 151.4+ KB\n"
     ]
    }
   ],
   "source": [
    "# Creating dataframe for comparison of gdp and internet use and CO2 emissions.\n",
    "\n",
    "gdp_and_internet_use = pd.read_csv('../data/gdp_and_internet_use_to_be_imported_and_merged.csv')\n",
    "gdp_and_internet_use.info()"
   ]
  },
  {
   "cell_type": "code",
   "execution_count": 157,
   "id": "560631e2",
   "metadata": {
    "scrolled": false
   },
   "outputs": [
    {
     "name": "stdout",
     "output_type": "stream",
     "text": [
      "<class 'pandas.core.frame.DataFrame'>\n",
      "RangeIndex: 1247 entries, 0 to 1246\n",
      "Data columns (total 3 columns):\n",
      " #   Column             Non-Null Count  Dtype  \n",
      "---  ------             --------------  -----  \n",
      " 0   Country            1247 non-null   object \n",
      " 1   Year               1247 non-null   int64  \n",
      " 2   CO2 (kts) Emitted  1247 non-null   float64\n",
      "dtypes: float64(1), int64(1), object(1)\n",
      "memory usage: 29.4+ KB\n"
     ]
    }
   ],
   "source": [
    "emissions = pd.read_csv(\"../data/CO2 Emissions.csv\", names = ['Country', 'Year', 'CO2 (kts) Emitted'], header = 0)\n",
    "emissions.info()"
   ]
  },
  {
   "cell_type": "code",
   "execution_count": 158,
   "id": "7a857a71",
   "metadata": {},
   "outputs": [
    {
     "name": "stdout",
     "output_type": "stream",
     "text": [
      "These do not match. Checking for missing values.\n"
     ]
    }
   ],
   "source": [
    "outer_test_merge = pd.merge(gdp_and_internet_use, emissions, how = 'outer')\n",
    "outer_list = list(outer_test_merge['Country'].unique())\n",
    "inner_test_merge = pd.merge(gdp_and_internet_use, emissions, how = 'inner')\n",
    "inner_list = list(inner_test_merge['Country'].unique())\n",
    "for i in outer_list:\n",
    "    if i not in inner_list:\n",
    "        flag = True\n",
    "        message = \"These do not match. Checking for missing values.\"\n",
    "if flag == True:\n",
    "    print(message)"
   ]
  },
  {
   "cell_type": "code",
   "execution_count": 159,
   "id": "66db343d",
   "metadata": {
    "scrolled": true
   },
   "outputs": [
    {
     "data": {
      "text/html": [
       "<div>\n",
       "<style scoped>\n",
       "    .dataframe tbody tr th:only-of-type {\n",
       "        vertical-align: middle;\n",
       "    }\n",
       "\n",
       "    .dataframe tbody tr th {\n",
       "        vertical-align: top;\n",
       "    }\n",
       "\n",
       "    .dataframe thead th {\n",
       "        text-align: right;\n",
       "    }\n",
       "</style>\n",
       "<table border=\"1\" class=\"dataframe\">\n",
       "  <thead>\n",
       "    <tr style=\"text-align: right;\">\n",
       "      <th></th>\n",
       "      <th>Country</th>\n",
       "      <th>Year</th>\n",
       "      <th>GDP_Per_Capita</th>\n",
       "      <th>Continent</th>\n",
       "      <th>Internet_Use_Pct</th>\n",
       "      <th>CO2 (kts) Emitted</th>\n",
       "    </tr>\n",
       "  </thead>\n",
       "  <tbody>\n",
       "    <tr>\n",
       "      <th>0</th>\n",
       "      <td>Australia</td>\n",
       "      <td>2014</td>\n",
       "      <td>47436.748390</td>\n",
       "      <td>Oceania</td>\n",
       "      <td>84.560000</td>\n",
       "      <td>3.941169e+05</td>\n",
       "    </tr>\n",
       "    <tr>\n",
       "      <th>1</th>\n",
       "      <td>Australia</td>\n",
       "      <td>2013</td>\n",
       "      <td>46960.050240</td>\n",
       "      <td>Oceania</td>\n",
       "      <td>83.000000</td>\n",
       "      <td>3.979432e+05</td>\n",
       "    </tr>\n",
       "    <tr>\n",
       "      <th>2</th>\n",
       "      <td>Australia</td>\n",
       "      <td>2012</td>\n",
       "      <td>46571.474558</td>\n",
       "      <td>Oceania</td>\n",
       "      <td>79.000000</td>\n",
       "      <td>4.065062e+05</td>\n",
       "    </tr>\n",
       "    <tr>\n",
       "      <th>3</th>\n",
       "      <td>Australia</td>\n",
       "      <td>2011</td>\n",
       "      <td>45604.797159</td>\n",
       "      <td>Oceania</td>\n",
       "      <td>79.487698</td>\n",
       "      <td>4.041728e+05</td>\n",
       "    </tr>\n",
       "    <tr>\n",
       "      <th>4</th>\n",
       "      <td>Australia</td>\n",
       "      <td>2010</td>\n",
       "      <td>45131.434148</td>\n",
       "      <td>Oceania</td>\n",
       "      <td>76.000000</td>\n",
       "      <td>4.055028e+05</td>\n",
       "    </tr>\n",
       "    <tr>\n",
       "      <th>...</th>\n",
       "      <td>...</td>\n",
       "      <td>...</td>\n",
       "      <td>...</td>\n",
       "      <td>...</td>\n",
       "      <td>...</td>\n",
       "      <td>...</td>\n",
       "    </tr>\n",
       "    <tr>\n",
       "      <th>945</th>\n",
       "      <td>United States</td>\n",
       "      <td>1994</td>\n",
       "      <td>42410.326048</td>\n",
       "      <td>North America</td>\n",
       "      <td>4.862781</td>\n",
       "      <td>5.377033e+06</td>\n",
       "    </tr>\n",
       "    <tr>\n",
       "      <th>946</th>\n",
       "      <td>United States</td>\n",
       "      <td>1993</td>\n",
       "      <td>41270.867304</td>\n",
       "      <td>North America</td>\n",
       "      <td>2.271673</td>\n",
       "      <td>5.283438e+06</td>\n",
       "    </tr>\n",
       "    <tr>\n",
       "      <th>947</th>\n",
       "      <td>United States</td>\n",
       "      <td>1992</td>\n",
       "      <td>40698.340183</td>\n",
       "      <td>North America</td>\n",
       "      <td>1.724203</td>\n",
       "      <td>5.182707e+06</td>\n",
       "    </tr>\n",
       "    <tr>\n",
       "      <th>948</th>\n",
       "      <td>United States</td>\n",
       "      <td>1991</td>\n",
       "      <td>39862.575565</td>\n",
       "      <td>North America</td>\n",
       "      <td>1.163194</td>\n",
       "      <td>5.078890e+06</td>\n",
       "    </tr>\n",
       "    <tr>\n",
       "      <th>949</th>\n",
       "      <td>United States</td>\n",
       "      <td>1990</td>\n",
       "      <td>40442.601132</td>\n",
       "      <td>North America</td>\n",
       "      <td>0.784729</td>\n",
       "      <td>5.128301e+06</td>\n",
       "    </tr>\n",
       "  </tbody>\n",
       "</table>\n",
       "<p>950 rows × 6 columns</p>\n",
       "</div>"
      ],
      "text/plain": [
       "           Country  Year  GDP_Per_Capita      Continent  Internet_Use_Pct  \\\n",
       "0        Australia  2014    47436.748390        Oceania         84.560000   \n",
       "1        Australia  2013    46960.050240        Oceania         83.000000   \n",
       "2        Australia  2012    46571.474558        Oceania         79.000000   \n",
       "3        Australia  2011    45604.797159        Oceania         79.487698   \n",
       "4        Australia  2010    45131.434148        Oceania         76.000000   \n",
       "..             ...   ...             ...            ...               ...   \n",
       "945  United States  1994    42410.326048  North America          4.862781   \n",
       "946  United States  1993    41270.867304  North America          2.271673   \n",
       "947  United States  1992    40698.340183  North America          1.724203   \n",
       "948  United States  1991    39862.575565  North America          1.163194   \n",
       "949  United States  1990    40442.601132  North America          0.784729   \n",
       "\n",
       "     CO2 (kts) Emitted  \n",
       "0         3.941169e+05  \n",
       "1         3.979432e+05  \n",
       "2         4.065062e+05  \n",
       "3         4.041728e+05  \n",
       "4         4.055028e+05  \n",
       "..                 ...  \n",
       "945       5.377033e+06  \n",
       "946       5.283438e+06  \n",
       "947       5.182707e+06  \n",
       "948       5.078890e+06  \n",
       "949       5.128301e+06  \n",
       "\n",
       "[950 rows x 6 columns]"
      ]
     },
     "execution_count": 159,
     "metadata": {},
     "output_type": "execute_result"
    }
   ],
   "source": [
    "emissions, gdp_and_internet_use = Country_Swap(emissions, gdp_and_internet_use)\n",
    "gaiu_emissions = pd.merge(gdp_and_internet_use, emissions, how = 'inner')\n",
    "gaiu_emissions"
   ]
  },
  {
   "cell_type": "code",
   "execution_count": 160,
   "id": "c8f0e04d",
   "metadata": {
    "scrolled": false
   },
   "outputs": [
    {
     "name": "stdout",
     "output_type": "stream",
     "text": [
      "<class 'pandas.core.frame.DataFrame'>\n",
      "Int64Index: 950 entries, 0 to 949\n",
      "Data columns (total 6 columns):\n",
      " #   Column             Non-Null Count  Dtype  \n",
      "---  ------             --------------  -----  \n",
      " 0   Country            950 non-null    object \n",
      " 1   Year               950 non-null    int64  \n",
      " 2   GDP Per Capita     950 non-null    float64\n",
      " 3   Continent          950 non-null    object \n",
      " 4   % Internet Use     950 non-null    float64\n",
      " 5   CO2 (kts) Emitted  950 non-null    float64\n",
      "dtypes: float64(3), int64(1), object(2)\n",
      "memory usage: 52.0+ KB\n"
     ]
    }
   ],
   "source": [
    "gaiu_emissions = gaiu_emissions.rename(columns = {'GDP_Per_Capita':'GDP Per Capita', 'Internet_Use_Pct':'% Internet Use'})\n",
    "gaiu_emissions.info()"
   ]
  },
  {
   "cell_type": "code",
   "execution_count": 161,
   "id": "33e3bc07",
   "metadata": {},
   "outputs": [],
   "source": [
    "gaiu_emissions_2014 = gaiu_emissions[gaiu_emissions['Year'] == 2014]\n",
    "gaiu_emissions_1990 = gaiu_emissions[gaiu_emissions['Year'] == 1990]"
   ]
  },
  {
   "cell_type": "code",
   "execution_count": 162,
   "id": "a1a58b3e",
   "metadata": {},
   "outputs": [],
   "source": [
    "relevant_variables = ['GDP Per Capita', '% Internet Use', 'CO2 (kts) Emitted']\n",
    "\n",
    "min_max_scaler = preprocessing.MinMaxScaler()\n",
    "for i in relevant_variables:\n",
    "    gaiu_emissions_2014[i] = min_max_scaler.fit_transform(gaiu_emissions_2014[[i]])\n",
    "    \n",
    "min_max_scaler = preprocessing.MinMaxScaler()\n",
    "for i in relevant_variables:\n",
    "    gaiu_emissions_1990[i] = min_max_scaler.fit_transform(gaiu_emissions_1990[[i]])\n",
    "    \n",
    "gaiu_emissions_1990_2014 = pd.concat([gaiu_emissions_1990, gaiu_emissions_2014])"
   ]
  },
  {
   "cell_type": "code",
   "execution_count": 163,
   "id": "235ea7c7",
   "metadata": {},
   "outputs": [],
   "source": [
    "gaiu_emissions.to_csv('../data/gaiu_emissions_to_be_imported.csv', index = False)\n",
    "gaiu_emissions_1990_2014.to_csv('../data/gaiu_emissions_1990_2014_to_be_imported.csv', index = False)"
   ]
  },
  {
   "cell_type": "code",
   "execution_count": 164,
   "id": "eecad02f",
   "metadata": {},
   "outputs": [
    {
     "name": "stdout",
     "output_type": "stream",
     "text": [
      "<class 'pandas.core.frame.DataFrame'>\n",
      "RangeIndex: 5443 entries, 0 to 5442\n",
      "Data columns (total 4 columns):\n",
      " #   Column          Non-Null Count  Dtype  \n",
      "---  ------          --------------  -----  \n",
      " 0   Country         5443 non-null   object \n",
      " 1   Year            5443 non-null   int64  \n",
      " 2   GDP_Per_Capita  5443 non-null   float64\n",
      " 3   Continent       5443 non-null   object \n",
      "dtypes: float64(1), int64(1), object(2)\n",
      "memory usage: 170.2+ KB\n"
     ]
    }
   ],
   "source": [
    "# Adding income inequality measures to GDP per capita dataframe\n",
    "\n",
    "gdp_df = pd.read_csv('../data/gdp_df_to_be_imported_and_merged.csv')\n",
    "gdp_df.info()"
   ]
  },
  {
   "cell_type": "code",
   "execution_count": 165,
   "id": "f9fe08a9",
   "metadata": {},
   "outputs": [],
   "source": [
    "def Take_Out_the_NAs_On_Read(values):\n",
    "    \"\"\"Drops NA values on csv read.\"\"\"\n",
    "    if values == np.nan:\n",
    "        return 0\n",
    "    return values\n",
    "\n",
    "merged_df_1 = pd.read_csv(\"../data/Top Ten Income Share.csv\", skipfooter = 253, usecols = [i for i in range(3)])\n",
    "merged_df_2 = pd.read_csv(\"../data/Poverty Headcount $5.50.csv\", skipfooter = 260, usecols = [i for i in range(3)], converters={\"Value\": Take_Out_the_NAs_On_Read})\n",
    "merged_df_3 = pd.read_csv(\"../data/Poverty Headcount $1.90.csv\", skipfooter = 261, usecols = [i for i in range(3)], converters={\"Value\": Take_Out_the_NAs_On_Read})"
   ]
  },
  {
   "cell_type": "code",
   "execution_count": 166,
   "id": "96d76d0d",
   "metadata": {},
   "outputs": [],
   "source": [
    "to_be_merged_dataframes = [gdp_df, merged_df_1, merged_df_2, merged_df_3]\n",
    "\n",
    "for i in to_be_merged_dataframes:\n",
    "    if not i.equals(gdp_df):\n",
    "        i.rename(columns = {\"Country or Area\":\"Country\"}, inplace = True)\n",
    "        i['Year'] = i['Year'].astype(int)\n",
    "        i['Value'] = i['Value'].astype(np.float)\n",
    "        Country_Swap(i, gdp_df)"
   ]
  },
  {
   "cell_type": "code",
   "execution_count": 167,
   "id": "15aba8d2",
   "metadata": {},
   "outputs": [],
   "source": [
    "merged_df_1.rename(columns = {\"Value\":\"% Income Held by Top 10%\"}, inplace = True)\n",
    "merged_df_2.rename(columns = {\"Value\":\"% Population Living on <$5.50/Day\"}, inplace = True)\n",
    "merged_df_3.rename(columns = {\"Value\":\"% Population Living on <$1.90/Day\"}, inplace = True)"
   ]
  },
  {
   "cell_type": "code",
   "execution_count": 168,
   "id": "425052e2",
   "metadata": {},
   "outputs": [],
   "source": [
    "fully_merged = reduce(lambda left, right: \n",
    "                      pd.merge(left, right, on = ['Country', 'Year'], how = 'inner'),\n",
    "                      to_be_merged_dataframes)"
   ]
  },
  {
   "cell_type": "code",
   "execution_count": 169,
   "id": "7a2d1fe2",
   "metadata": {},
   "outputs": [
    {
     "name": "stdout",
     "output_type": "stream",
     "text": [
      "<class 'pandas.core.frame.DataFrame'>\n",
      "Int64Index: 1638 entries, 0 to 1637\n",
      "Data columns (total 7 columns):\n",
      " #   Column                             Non-Null Count  Dtype  \n",
      "---  ------                             --------------  -----  \n",
      " 0   Country                            1638 non-null   object \n",
      " 1   Year                               1638 non-null   int64  \n",
      " 2   GDP_Per_Capita                     1638 non-null   float64\n",
      " 3   Continent                          1638 non-null   object \n",
      " 4   % Income Held by Top 10%           1638 non-null   float64\n",
      " 5   % Population Living on <$5.50/Day  1638 non-null   float64\n",
      " 6   % Population Living on <$1.90/Day  1638 non-null   float64\n",
      "dtypes: float64(4), int64(1), object(2)\n",
      "memory usage: 102.4+ KB\n"
     ]
    }
   ],
   "source": [
    "fully_merged.info()"
   ]
  },
  {
   "cell_type": "code",
   "execution_count": 170,
   "id": "1072548d",
   "metadata": {
    "scrolled": false
   },
   "outputs": [
    {
     "data": {
      "text/html": [
       "<div>\n",
       "<style scoped>\n",
       "    .dataframe tbody tr th:only-of-type {\n",
       "        vertical-align: middle;\n",
       "    }\n",
       "\n",
       "    .dataframe tbody tr th {\n",
       "        vertical-align: top;\n",
       "    }\n",
       "\n",
       "    .dataframe thead th {\n",
       "        text-align: right;\n",
       "    }\n",
       "</style>\n",
       "<table border=\"1\" class=\"dataframe\">\n",
       "  <thead>\n",
       "    <tr style=\"text-align: right;\">\n",
       "      <th></th>\n",
       "      <th>Country</th>\n",
       "      <th>Year</th>\n",
       "      <th>GDP_Per_Capita</th>\n",
       "      <th>Continent</th>\n",
       "      <th>% Income Held by Top 10%</th>\n",
       "      <th>% Population Living on &lt;$5.50/Day</th>\n",
       "      <th>% Population Living on &lt;$1.90/Day</th>\n",
       "    </tr>\n",
       "  </thead>\n",
       "  <tbody>\n",
       "    <tr>\n",
       "      <th>0</th>\n",
       "      <td>Albania</td>\n",
       "      <td>2017</td>\n",
       "      <td>12811.759436</td>\n",
       "      <td>Europe</td>\n",
       "      <td>24.8</td>\n",
       "      <td>33.8</td>\n",
       "      <td>1.3</td>\n",
       "    </tr>\n",
       "    <tr>\n",
       "      <th>1</th>\n",
       "      <td>Albania</td>\n",
       "      <td>2016</td>\n",
       "      <td>12331.127754</td>\n",
       "      <td>Europe</td>\n",
       "      <td>25.0</td>\n",
       "      <td>34.2</td>\n",
       "      <td>0.9</td>\n",
       "    </tr>\n",
       "    <tr>\n",
       "      <th>2</th>\n",
       "      <td>Albania</td>\n",
       "      <td>2015</td>\n",
       "      <td>11916.422315</td>\n",
       "      <td>Europe</td>\n",
       "      <td>24.9</td>\n",
       "      <td>34.3</td>\n",
       "      <td>1.1</td>\n",
       "    </tr>\n",
       "    <tr>\n",
       "      <th>3</th>\n",
       "      <td>Albania</td>\n",
       "      <td>2014</td>\n",
       "      <td>11623.866679</td>\n",
       "      <td>Europe</td>\n",
       "      <td>25.5</td>\n",
       "      <td>37.0</td>\n",
       "      <td>1.6</td>\n",
       "    </tr>\n",
       "    <tr>\n",
       "      <th>4</th>\n",
       "      <td>Albania</td>\n",
       "      <td>2012</td>\n",
       "      <td>11263.851342</td>\n",
       "      <td>Europe</td>\n",
       "      <td>22.9</td>\n",
       "      <td>34.5</td>\n",
       "      <td>0.8</td>\n",
       "    </tr>\n",
       "  </tbody>\n",
       "</table>\n",
       "</div>"
      ],
      "text/plain": [
       "   Country  Year  GDP_Per_Capita Continent  % Income Held by Top 10%  \\\n",
       "0  Albania  2017    12811.759436    Europe                      24.8   \n",
       "1  Albania  2016    12331.127754    Europe                      25.0   \n",
       "2  Albania  2015    11916.422315    Europe                      24.9   \n",
       "3  Albania  2014    11623.866679    Europe                      25.5   \n",
       "4  Albania  2012    11263.851342    Europe                      22.9   \n",
       "\n",
       "   % Population Living on <$5.50/Day  % Population Living on <$1.90/Day  \n",
       "0                               33.8                                1.3  \n",
       "1                               34.2                                0.9  \n",
       "2                               34.3                                1.1  \n",
       "3                               37.0                                1.6  \n",
       "4                               34.5                                0.8  "
      ]
     },
     "execution_count": 170,
     "metadata": {},
     "output_type": "execute_result"
    }
   ],
   "source": [
    "fully_merged.head()"
   ]
  },
  {
   "cell_type": "code",
   "execution_count": 171,
   "id": "ac7ea09f",
   "metadata": {},
   "outputs": [
    {
     "data": {
      "text/html": [
       "<div>\n",
       "<style scoped>\n",
       "    .dataframe tbody tr th:only-of-type {\n",
       "        vertical-align: middle;\n",
       "    }\n",
       "\n",
       "    .dataframe tbody tr th {\n",
       "        vertical-align: top;\n",
       "    }\n",
       "\n",
       "    .dataframe thead th {\n",
       "        text-align: right;\n",
       "    }\n",
       "</style>\n",
       "<table border=\"1\" class=\"dataframe\">\n",
       "  <thead>\n",
       "    <tr style=\"text-align: right;\">\n",
       "      <th></th>\n",
       "      <th>Country</th>\n",
       "      <th>Year</th>\n",
       "      <th>GDP_Per_Capita</th>\n",
       "      <th>Continent</th>\n",
       "      <th>% Income Held by Top 10%</th>\n",
       "      <th>% Population Living on &lt;$5.50/Day</th>\n",
       "      <th>% Population Living on &lt;$1.90/Day</th>\n",
       "    </tr>\n",
       "  </thead>\n",
       "  <tbody>\n",
       "    <tr>\n",
       "      <th>1633</th>\n",
       "      <td>Zambia</td>\n",
       "      <td>1996</td>\n",
       "      <td>1974.616550</td>\n",
       "      <td>Africa</td>\n",
       "      <td>37.3</td>\n",
       "      <td>84.8</td>\n",
       "      <td>43.6</td>\n",
       "    </tr>\n",
       "    <tr>\n",
       "      <th>1634</th>\n",
       "      <td>Zambia</td>\n",
       "      <td>1993</td>\n",
       "      <td>2133.263108</td>\n",
       "      <td>Africa</td>\n",
       "      <td>39.3</td>\n",
       "      <td>89.0</td>\n",
       "      <td>56.2</td>\n",
       "    </tr>\n",
       "    <tr>\n",
       "      <th>1635</th>\n",
       "      <td>Zambia</td>\n",
       "      <td>1991</td>\n",
       "      <td>2133.689042</td>\n",
       "      <td>Africa</td>\n",
       "      <td>42.9</td>\n",
       "      <td>85.1</td>\n",
       "      <td>55.2</td>\n",
       "    </tr>\n",
       "    <tr>\n",
       "      <th>1636</th>\n",
       "      <td>Zimbabwe</td>\n",
       "      <td>2017</td>\n",
       "      <td>3028.245976</td>\n",
       "      <td>Africa</td>\n",
       "      <td>34.8</td>\n",
       "      <td>81.3</td>\n",
       "      <td>33.9</td>\n",
       "    </tr>\n",
       "    <tr>\n",
       "      <th>1637</th>\n",
       "      <td>Zimbabwe</td>\n",
       "      <td>2011</td>\n",
       "      <td>2556.278431</td>\n",
       "      <td>Africa</td>\n",
       "      <td>33.8</td>\n",
       "      <td>74.0</td>\n",
       "      <td>21.4</td>\n",
       "    </tr>\n",
       "  </tbody>\n",
       "</table>\n",
       "</div>"
      ],
      "text/plain": [
       "       Country  Year  GDP_Per_Capita Continent  % Income Held by Top 10%  \\\n",
       "1633    Zambia  1996     1974.616550    Africa                      37.3   \n",
       "1634    Zambia  1993     2133.263108    Africa                      39.3   \n",
       "1635    Zambia  1991     2133.689042    Africa                      42.9   \n",
       "1636  Zimbabwe  2017     3028.245976    Africa                      34.8   \n",
       "1637  Zimbabwe  2011     2556.278431    Africa                      33.8   \n",
       "\n",
       "      % Population Living on <$5.50/Day  % Population Living on <$1.90/Day  \n",
       "1633                               84.8                               43.6  \n",
       "1634                               89.0                               56.2  \n",
       "1635                               85.1                               55.2  \n",
       "1636                               81.3                               33.9  \n",
       "1637                               74.0                               21.4  "
      ]
     },
     "execution_count": 171,
     "metadata": {},
     "output_type": "execute_result"
    }
   ],
   "source": [
    "fully_merged.tail()"
   ]
  },
  {
   "cell_type": "code",
   "execution_count": 172,
   "id": "7fb06528",
   "metadata": {},
   "outputs": [],
   "source": [
    "fully_merged.to_csv('../data/fully_merged_to_be_imported.csv', index = False)"
   ]
  }
 ],
 "metadata": {
  "kernelspec": {
   "display_name": "Python 3 (ipykernel)",
   "language": "python",
   "name": "python3"
  },
  "language_info": {
   "codemirror_mode": {
    "name": "ipython",
    "version": 3
   },
   "file_extension": ".py",
   "mimetype": "text/x-python",
   "name": "python",
   "nbconvert_exporter": "python",
   "pygments_lexer": "ipython3",
   "version": "3.8.11"
  }
 },
 "nbformat": 4,
 "nbformat_minor": 5
}
